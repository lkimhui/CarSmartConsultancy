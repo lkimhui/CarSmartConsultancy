{
 "cells": [
  {
   "cell_type": "code",
   "execution_count": null,
   "id": "2f7dbc9a",
   "metadata": {},
   "outputs": [],
   "source": [
    "# plan\n",
    "# 1. so far the listing data we have are all for used cars\n",
    "# 2. can make use of the used_car ID to search for review link for a specific car model"
   ]
  },
  {
   "cell_type": "code",
   "execution_count": 1,
   "id": "d5cad573",
   "metadata": {},
   "outputs": [],
   "source": [
    "# import packages\n",
    "import bs4\n",
    "from bs4 import BeautifulSoup\n",
    "import requests as req\n",
    "import pickle\n",
    "import re\n",
    "import pandas as pd\n",
    "import numpy as np"
   ]
  },
  {
   "cell_type": "code",
   "execution_count": 99,
   "id": "4de4361c",
   "metadata": {},
   "outputs": [],
   "source": [
    "############################\n",
    "##### test environment #####\n",
    "##### to scrape review #####\n",
    "############################\n",
    "def scrape_review_data(url):\n",
    "    \n",
    "    # Step1: form beautifulSoup from url\n",
    "    html_text = req.get(url)\n",
    "    html_text = req.get(url)\n",
    "    soup = BeautifulSoup(html_text.content, \"lxml\")\n",
    "\n",
    "    # Step2: get entire review page content\n",
    "    review_text = soup.body.find('div', {'id':'content'}).text\n",
    "    \n",
    "    # Step3: clean the raw html text and hold it inside a temp bag as list\n",
    "    # Note: \\xa0 is a line break from html text\n",
    "    review_raw = review_text.strip().replace('\\s', '').split('\\xa0')\n",
    "    review_tempBag = []\n",
    "    for text in review_raw:\n",
    "        if re.match(\"^[a-zA-Z]\", text):\n",
    "            review_tempBag.append(text.replace('\\n', ' '))\n",
    "    \n",
    "    # Step4: return cleaned review text\n",
    "    review_cleaned = ' '.join(review_tempBag)\n",
    "    review_cleaned\n",
    "\n",
    "    # Step5: extract relevant information\n",
    "    # 1. Model\n",
    "    model = review_cleaned.partition('User Reviews')[2].partition('Price')[0].strip()\n",
    "    # 2. What We Like\n",
    "    review_like = review_cleaned.partition('What We Like')[2].partition('What We Dislike')[0].strip()\n",
    "    # 3. What We Dislike\n",
    "    review_dislike = review_cleaned.partition('What We Dislike')[2].partition('The')[0].strip()\n",
    "    \n",
    "    return model, review_like, review_dislike"
   ]
  },
  {
   "cell_type": "code",
   "execution_count": 100,
   "id": "670b4f0e",
   "metadata": {},
   "outputs": [
    {
     "name": "stdout",
     "output_type": "stream",
     "text": [
      "https://www.sgcarmart.com/news/review.php?AID=1\n"
     ]
    },
    {
     "data": {
      "text/plain": [
       "2068"
      ]
     },
     "execution_count": 100,
     "metadata": {},
     "output_type": "execute_result"
    }
   ],
   "source": [
    "# form a list of url\n",
    "url_list = [r'https://www.sgcarmart.com/news/review.php?AID=%d' %(AID+1) for AID in range(2068)]\n",
    "print(url_list[0])\n",
    "len(url_list)"
   ]
  },
  {
   "cell_type": "code",
   "execution_count": 101,
   "id": "88226c3e",
   "metadata": {},
   "outputs": [],
   "source": [
    "result = scrape_review_data(url_list[0])"
   ]
  },
  {
   "cell_type": "code",
   "execution_count": 102,
   "id": "99306fc4",
   "metadata": {},
   "outputs": [
    {
     "data": {
      "text/plain": [
       "'Geely MK 1.5 (M)'"
      ]
     },
     "execution_count": 102,
     "metadata": {},
     "output_type": "execute_result"
    }
   ],
   "source": [
    "result[0]"
   ]
  },
  {
   "cell_type": "raw",
   "id": "06e6964e",
   "metadata": {},
   "source": []
  }
 ],
 "metadata": {
  "kernelspec": {
   "display_name": "Python 3 (ipykernel)",
   "language": "python",
   "name": "python3"
  },
  "language_info": {
   "codemirror_mode": {
    "name": "ipython",
    "version": 3
   },
   "file_extension": ".py",
   "mimetype": "text/x-python",
   "name": "python",
   "nbconvert_exporter": "python",
   "pygments_lexer": "ipython3",
   "version": "3.9.13"
  }
 },
 "nbformat": 4,
 "nbformat_minor": 5
}
