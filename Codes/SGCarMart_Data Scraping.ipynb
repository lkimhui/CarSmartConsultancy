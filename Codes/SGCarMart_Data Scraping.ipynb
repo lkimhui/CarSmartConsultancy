{
 "cells": [
  {
   "cell_type": "code",
   "execution_count": 247,
   "id": "cc5b7788",
   "metadata": {},
   "outputs": [],
   "source": [
    "# import libraries\n",
    "from bs4 import BeautifulSoup\n",
    "import requests as req\n",
    "import pickle\n",
    "import re\n",
    "import pandas as pd"
   ]
  },
  {
   "cell_type": "code",
   "execution_count": 227,
   "id": "0b9d2efd",
   "metadata": {},
   "outputs": [
    {
     "data": {
      "text/plain": [
       "'\\nScrape data from:\\n1. https://www.sgcarmart.com/used_cars/info_financial.php?ID={}\\n2. https://www.sgcarmart.com/used_cars/info.php?ID={}\\n\\nScrape data for:\\n1. price (from financial table - table: {id:usedcar_price_id}, {attr:value})\\n2. depreciation/year\\n3. reg date\\n4. manufactured year\\n5. mileage\\n6. road tax\\n7. transmission\\n8. dereg value\\n9. OMV (open market value)\\n10. COE\\n11. ARF (additional refistration fees)\\n12. Engine cap\\n13. power\\n14. curb weight\\n15. number of owner\\n16. types\\n17. features\\n18. accessories\\n19. descriptions\\n20. warranty\\n21. category\\n22. status\\n'"
      ]
     },
     "execution_count": 227,
     "metadata": {},
     "output_type": "execute_result"
    }
   ],
   "source": [
    "'''\n",
    "Scrape data from:\n",
    "1. https://www.sgcarmart.com/used_cars/info_financial.php?ID={}\n",
    "2. https://www.sgcarmart.com/used_cars/info.php?ID={}\n",
    "\n",
    "Scrape data for:\n",
    "1. price (from financial table - table: {id:usedcar_price_id}, {attr:value})\n",
    "2. depreciation/year\n",
    "3. reg date\n",
    "4. manufactured year\n",
    "5. mileage\n",
    "6. road tax\n",
    "7. transmission\n",
    "8. dereg value\n",
    "9. OMV (open market value)\n",
    "10. COE\n",
    "11. ARF (additional refistration fees)\n",
    "12. Engine cap\n",
    "13. power\n",
    "14. curb weight\n",
    "15. number of owner\n",
    "16. types\n",
    "17. features\n",
    "18. accessories\n",
    "19. descriptions\n",
    "20. warranty\n",
    "21. category\n",
    "22. status\n",
    "'''"
   ]
  },
  {
   "cell_type": "code",
   "execution_count": 229,
   "id": "bfb069ff",
   "metadata": {},
   "outputs": [
    {
     "name": "stdout",
     "output_type": "stream",
     "text": [
      "<class 'bs4.BeautifulSoup'>\n"
     ]
    }
   ],
   "source": [
    "# # define url, then grab the html table\n",
    "# # to loop the url_list\n",
    "# url = \"https://www.sgcarmart.com/used_cars/info.php?ID=1174653\"\n",
    "# html_text = req.get(url)\n",
    "# soup = BeautifulSoup(html_text.content, \"lxml\")\n",
    "# print(type(soup))"
   ]
  },
  {
   "cell_type": "code",
   "execution_count": 248,
   "id": "c9e53dcb",
   "metadata": {},
   "outputs": [],
   "source": [
    "# create empty list for each feature\n",
    "price = []\n",
    "depreciation = []\n",
    "reg_date = []\n",
    "manufactured_year = []\n",
    "mileage = []\n",
    "road_tax = []\n",
    "transmission = []\n",
    "dereg_value = []\n",
    "omv = []\n",
    "coe = []\n",
    "arf = []\n",
    "engine_cap = []\n",
    "power = []\n",
    "curb_weight = []\n",
    "number_of_owner = []\n",
    "types = []\n",
    "features = []\n",
    "accessories = []\n",
    "descriptions = []\n",
    "warranty = []\n",
    "category = []\n",
    "status = []"
   ]
  },
  {
   "cell_type": "code",
   "execution_count": 249,
   "id": "047f3697",
   "metadata": {},
   "outputs": [],
   "source": [
    "# Methods to scrape each features\n",
    "def get_price(soup):\n",
    "    pr = soup.body.find('div', {'id':'main_left'}).find('table', {'id':'carInfo'}).find('tr').find_all('strong')[1]\n",
    "    pr = str(pr).partition('/')[0].partition('>')[-1].partition('<')[0].strip()\n",
    "    return pr\n",
    "\n",
    "def get_depreciation(soup):\n",
    "    dep = soup.body.find('div', {'id':'main_left'}).find('table', {'id':'carInfo'}).select('tr:nth-of-type(2)')[0].select('td:nth-of-type(2)')[0].find_all(string=re.compile(\"$\"))\n",
    "    dep = dep[0].replace(\" \", \"\").strip().partition('/')[0]\n",
    "    return dep\n",
    "\n",
    "def get_registrationDate(soup):\n",
    "    regDate = soup.body.find('div', {'id':'main_left'}).find('table', {'id':'carInfo'}).select('tr:nth-of-type(2)')[0].select('td:nth-of-type(4)')[0].find_all(string=True)\n",
    "    reg = regDate[0].strip()\n",
    "    return reg\n",
    "\n",
    "def get_mileage(soup):\n",
    "    mi = soup.body.find('div', {'id':'main_left'}).find('table', {'id':'carInfo'}).select('tr:nth-of-type(3)')[0].select('div:nth-of-type(1)')[0].find('div', {'class':'row_info'}).string\n",
    "    mi = mi.strip()\n",
    "    return mi\n",
    "\n",
    "def get_roadTax(soup):\n",
    "    roadTax = soup.body.find('div', {'id':'main_left'}).find('table', {'id':'carInfo'}).select('tr:nth-of-type(3)')[0].find('td').select('div:nth-of-type(1)')[0].next_sibling.next_sibling.find('div', {'class':'row_info'}).string\n",
    "    roadTax = roadTax.strip()\n",
    "    return roadTax\n",
    "\n",
    "def get_deregistrationValue(soup):\n",
    "    dereg = soup.body.find('div', {'id':'main_left'}).find('table', {'id':'carInfo'}).select('tr:nth-of-type(3)')[0].find('td').select('div:nth-of-type(3)')[0].find('div', {'class':'row_info'}).find(string=re.compile(\"$\"))\n",
    "    dereg = dereg.partition(\"as\")[0].strip()\n",
    "    return dereg\n",
    "\n",
    "def get_coe(soup):\n",
    "    coe = soup.body.find('div', {'id':'main_left'}).find('table', {'id':'carInfo'}).select('tr:nth-of-type(3)')[0].find('td').select('div:nth-of-type(4)')[0].find('div', {'class':'row_info'}).string\n",
    "    coe = c.strip()\n",
    "    return coe\n",
    "\n",
    "def get_engineCap(soup):\n",
    "    eng = soup.body.find('div', {'id':'main_left'}).find('table', {'id':'carInfo'}).select('tr:nth-of-type(3)')[0].find('td').select('div:nth-of-type(5)')[0].find('div', {'class':'row_info'}).string\n",
    "    eng = eng.strip()\n",
    "    return eng\n",
    "\n",
    "def get_curbWeight(soup):\n",
    "    weight = soup.body.find('div', {'id':'main_left'}).find('table', {'id':'carInfo'}).select('tr:nth-of-type(3)')[0].find('td').select('div:nth-of-type(6)')[0].find('div', {'class':'row_info'}).string\n",
    "    weight = curb.strip()\n",
    "    return weight\n",
    "\n",
    "def get_manufacturedYear(soup):\n",
    "    year = soup.body.find('div', {'id':'main_left'}).find('table', {'id':'carInfo'}).select('tr:nth-of-type(3)')[0].select('td:nth-of-type(2)')[0].select('div:nth-of-type(1)')[0].find('div', {'class':'row_info'}).string\n",
    "    year = year.strip()\n",
    "    return year\n",
    "\n",
    "def get_transmission(soup):\n",
    "    trans = soup.body.find('div', {'id':'main_left'}).find('table', {'id':'carInfo'}).select('tr:nth-of-type(3)')[0].select('td:nth-of-type(2)')[0].find('div', {'class':'eachInfo'}).next_sibling.next_sibling.find('div', {'class':'row_info'}).string\n",
    "    trans = trans.strip()\n",
    "    return trans\n",
    "\n",
    "def get_omv(soup):\n",
    "    omv = soup.body.find('div', {'id':'main_left'}).find('table', {'id':'carInfo'}).select('tr:nth-of-type(3)')[0].select('td:nth-of-type(2)')[0].select('div:nth-of-type(3)')[0].find('div', {'class':'row_info'}).string\n",
    "    omv = omv.strip()\n",
    "    return omv\n",
    "\n",
    "def get_arf(soup):\n",
    "    arf = soup.body.find('div', {'id':'main_left'}).find('table', {'id':'carInfo'}).select('tr:nth-of-type(3)')[0].select('td:nth-of-type(2)')[0].select('div:nth-of-type(4)')[0].find('div', {'class':'row_info'}).string\n",
    "    arf = aRF.strip()\n",
    "    return arf\n",
    "\n",
    "def get_power(soup):\n",
    "    power = soup.body.find('div', {'id':'main_left'}).find('table', {'id':'carInfo'}).select('tr:nth-of-type(3)')[0].select('td:nth-of-type(2)')[0].select('div:nth-of-type(5)')[0].find('div', {'class':'row_info'}).string\n",
    "    power = power.strip()\n",
    "    return power\n",
    "\n",
    "def get_number_of_owner(soup):\n",
    "    owner = soup.body.find('div', {'id':'main_left'}).find('table', {'id':'carInfo'}).select('tr:nth-of-type(3)')[0].select('td:nth-of-type(2)')[0].select('div:nth-of-type(6)')[0].find('div', {'class':'row_info'}).string\n",
    "    owner = owner.strip()\n",
    "    return owner\n",
    "\n",
    "def get_type(soup):\n",
    "    typ = soup.body.find('div', {'id':'main_left'}).find('table', {'id':'carInfo'}).select('tr:nth-of-type(4)')[0].find('a').string\n",
    "    typ = typeV.strip()\n",
    "    return typ\n",
    "\n",
    "def get_features(soup):\n",
    "    f = soup.body.find('div', {'id':'main_left'}).find('table', {'id':'carInfo'}).select('tr:nth-of-type(5)')[0].text\n",
    "    cleaned_f = ' '.join([t for t in (f.replace('\\r', '').replace('\\n','').strip().split(\" \")) if len(t) > 0])\n",
    "    return cleaned_f\n",
    "\n",
    "def get_accessories(soup):\n",
    "    a = soup.body.find('div', {'id':'main_left'}).find('table', {'id':'carInfo'}).select('tr:nth-of-type(6)')[0].text\n",
    "    cleaned_a = ' '.join([t for t in (a.replace('\\r', '').replace('\\n','').strip().split(\" \")) if len(t) > 0])\n",
    "    return cleaned_a\n",
    "\n",
    "def get_descriptions(soup):\n",
    "    d = soup.body.find('div', {'id':'main_left'}).find('table', {'id':'carInfo'}).select('tr:nth-of-type(7)')[0].text\n",
    "    cleaned_d = ' '.join([t for t in (d.replace('\\r', '').replace('\\n','').strip().split(\" \")) if len(t) > 0])\n",
    "    return cleaned_d\n",
    "\n",
    "def get_warranty(soup):\n",
    "    w = soup.body.find('div', {'id':'main_left'}).find('table', {'id':'carInfo'}).select('tr:nth-of-type(8)')[0].text\n",
    "    cleaned_w = ' '.join([t for t in (w.replace('\\r', '').replace('\\n','').strip().split(\" \")) if len(t) > 0])\n",
    "    return cleaned_w\n",
    "\n",
    "def get_category(soup):\n",
    "    cat = soup.body.find('div', {'id':'main_left'}).find('table', {'id':'carInfo'}).select('tr:nth-of-type(9)')[0].find('td').text\n",
    "    cleaned_cat = ' '.join([t for t in (cat.replace('\\r', '').replace('\\n','').replace('Category', '').strip().split(\" \")) if len(t) > 0])\n",
    "    return cleaned_cat\n",
    "\n",
    "def get_status(soup):\n",
    "    stat = soup.body.find('div', {'id':'main_left'}).find('table', {'id':'carInfo'}).select('tr:nth-of-type(10)')[0].find('td').text\n",
    "    cleaned_stat = ' '.join([t for t in (stat.replace('\\r', '').replace('\\n','').replace('Status', '').strip().split(\" \")) if len(t) > 0])\n",
    "    return cleaned_stat\n",
    "\n"
   ]
  },
  {
   "cell_type": "code",
   "execution_count": 258,
   "id": "9e780594",
   "metadata": {},
   "outputs": [],
   "source": [
    "# define a function to scrape features from SGCar Mart\n",
    "def feature_scraping(url):\n",
    "    \n",
    "    print(url)\n",
    "    \n",
    "    # Get the html page\n",
    "    html_text = req.get(url)\n",
    "    soup = BeautifulSoup(html_text.content, \"lxml\")\n",
    "    \n",
    "    # Get the features\n",
    "    sgmart_data = {}\n",
    "    sgmart_data['price'] = get_price(soup)\n",
    "    sgmart_data['depreciation'] = get_depreciation(soup)\n",
    "    sgmart_data['registration_date'] = get_registrationDate(soup)\n",
    "    sgmart_data['mileage'] = get_mileage(soup)\n",
    "    sgmart_data['road_tax'] = get_roadTax(soup)\n",
    "    sgmart_data['deregistration_value'] = get_deregistrationValue(soup)\n",
    "    sgmart_data['coe'] = get_coe(soup)\n",
    "    sgmart_data['engine_cap'] = get_engineCap(soup)\n",
    "    sgmart_data['curb_weight'] = get_curbWeight(soup)\n",
    "    sgmart_data['manufactured_year'] = get_manufacturedYear(soup)\n",
    "    sgmart_data['trasmission'] = get_transmission(soup)\n",
    "    sgmart_data['omv'] = get_omv(soup)\n",
    "    sgmart_data['arf'] = get_arf(soup)\n",
    "    sgmart_data['power'] = get_power(soup)\n",
    "    sgmart_data['number_of_owner'] = get_number_of_owner(soup)\n",
    "    sgmart_data['type'] = get_type(soup)\n",
    "    sgmart_data['car_features'] = get_features(soup)\n",
    "    sgmart_data['car_accessories'] = get_accessories(soup)\n",
    "    sgmart_data['descriptions'] = get_descriptions(soup)\n",
    "    sgmart_data['warranty'] = get_warranty(soup)\n",
    "    sgmart_data['category'] = get_category(soup)\n",
    "    sgmart_data['status'] = get_status(soup)\n",
    "    return sgmart_data"
   ]
  },
  {
   "cell_type": "code",
   "execution_count": 259,
   "id": "ced090c7",
   "metadata": {},
   "outputs": [
    {
     "name": "stdout",
     "output_type": "stream",
     "text": [
      "https://www.sgcarmart.com/used_cars/info.php?ID=1174653\n",
      "[{'price': '$52,800', 'depreciation': '$19,500', 'registration_date': '30-Jan-2015', 'mileage': '120,000 km (14.9k /yr)', 'road_tax': '$742 /yr', 'deregistration_value': '$31,536', 'coe': '$76,889', 'engine_cap': '1,598 cc', 'curb_weight': '1,410 kg', 'manufactured_year': '2014', 'trasmission': 'Auto', 'omv': '$34,553', 'arf': '$30,375', 'power': '125.0 kW (167 bhp)', 'number_of_owner': '2', 'type': 'Luxury Sedan', 'car_features': 'Features BMW 1.6L inline 4 cylinder twin power turbocharged engine producing 167bhp, 270nm of torque. 8 speed (A) Steptronic transmission. View specs of the BM View specs of the BMW 320i', 'car_accessories': 'Accessories BMW iDrive, navigation, retractable mirror, LED DRL, comfort access with keyless start, Bluetooth connectivity.', 'descriptions': 'Description Second owner only. Very good condition. All wear and tear done. Full servicing record. Highest trade in. Standard/high bank loan, balloon loan, in house loan. 100% loan available. 1 day loan approval. Viewing & test drive today at balestier office anytime.', 'warranty': 'This car comes with 6-mth Sgcarmart Warranty, the best protection for your car. Ask the dealer to activate the warranty to start the coverage.$0 Repair BillsComprehensive Vehicle Inspection', 'category': 'PARF Car, Premium Ad Car, Sgcarmart Warranty Cars', 'status': 'Available for sale. Shortlist this car to get alerted whenever the price or availability changes.'}]\n"
     ]
    }
   ],
   "source": [
    "url_list = [\"https://www.sgcarmart.com/used_cars/info.php?ID=1174653\"]\n",
    "data = map(feature_scraping, url_list)\n",
    "print(list(data))"
   ]
  },
  {
   "cell_type": "code",
   "execution_count": 170,
   "id": "521cec98",
   "metadata": {},
   "outputs": [],
   "source": [
    "# from SGCar Mart - main_left table\n",
    "# Left side column\n",
    "# price, depreciation, reg date, mileage, road tax, dereg value, COE, engine cap, curb weight"
   ]
  },
  {
   "cell_type": "code",
   "execution_count": 171,
   "id": "898ec5cf",
   "metadata": {},
   "outputs": [
    {
     "name": "stdout",
     "output_type": "stream",
     "text": [
      "['$52,800']\n"
     ]
    }
   ],
   "source": [
    "# # price\n",
    "# pr = soup.body.find('div', {'id':'main_left'}).find('table', {'id':'carInfo'}).find('tr').find_all('strong')[1]\n",
    "# price.append(str(pr).partition('/')[0].partition('>')[-1].partition('<')[0].strip())\n",
    "# print(price)"
   ]
  },
  {
   "cell_type": "code",
   "execution_count": 172,
   "id": "5fca26bf",
   "metadata": {},
   "outputs": [
    {
     "name": "stdout",
     "output_type": "stream",
     "text": [
      "['$19,500']\n"
     ]
    }
   ],
   "source": [
    "# # depreciation\n",
    "# dep = soup.body.find('div', {'id':'main_left'}).find('table', {'id':'carInfo'}).select('tr:nth-of-type(2)')[0].select('td:nth-of-type(2)')[0].find_all(string=re.compile(\"$\"))\n",
    "# depreciation.append(dep[0].replace(\" \", \"\").strip().partition('/')[0])\n",
    "# print(depreciation)"
   ]
  },
  {
   "cell_type": "code",
   "execution_count": 173,
   "id": "3852e60c",
   "metadata": {},
   "outputs": [
    {
     "name": "stdout",
     "output_type": "stream",
     "text": [
      "['30-Jan-2015']\n"
     ]
    }
   ],
   "source": [
    "# # reg date\n",
    "# regDate = soup.body.find('div', {'id':'main_left'}).find('table', {'id':'carInfo'}).select('tr:nth-of-type(2)')[0].select('td:nth-of-type(4)')[0].find_all(string=True)\n",
    "# reg_date.append(regDate[0].strip())\n",
    "# print(reg_date)"
   ]
  },
  {
   "cell_type": "code",
   "execution_count": 174,
   "id": "ee92a353",
   "metadata": {},
   "outputs": [
    {
     "name": "stdout",
     "output_type": "stream",
     "text": [
      "['120,000 km (14.9k /yr)']\n"
     ]
    }
   ],
   "source": [
    "# # mileage\n",
    "# mi = soup.body.find('div', {'id':'main_left'}).find('table', {'id':'carInfo'}).select('tr:nth-of-type(3)')[0].select('div:nth-of-type(1)')[0].find('div', {'class':'row_info'}).string\n",
    "# mileage.append(mi.strip())\n",
    "# print(mileage)"
   ]
  },
  {
   "cell_type": "code",
   "execution_count": 175,
   "id": "88126c34",
   "metadata": {},
   "outputs": [
    {
     "name": "stdout",
     "output_type": "stream",
     "text": [
      "['$742 /yr']\n"
     ]
    }
   ],
   "source": [
    "# # road tax\n",
    "# roadTax = soup.body.find('div', {'id':'main_left'}).find('table', {'id':'carInfo'}).select('tr:nth-of-type(3)')[0].find('td').select('div:nth-of-type(1)')[0].next_sibling.next_sibling.find('div', {'class':'row_info'}).string\n",
    "# road_tax.append(roadTax.strip())\n",
    "# print(road_tax)"
   ]
  },
  {
   "cell_type": "code",
   "execution_count": 176,
   "id": "7f08f2f8",
   "metadata": {},
   "outputs": [
    {
     "name": "stdout",
     "output_type": "stream",
     "text": [
      "['$31,536']\n"
     ]
    }
   ],
   "source": [
    "# # dereg value\n",
    "# dereg = soup.body.find('div', {'id':'main_left'}).find('table', {'id':'carInfo'}).select('tr:nth-of-type(3)')[0].find('td').select('div:nth-of-type(3)')[0].find('div', {'class':'row_info'}).find(string=re.compile(\"$\"))\n",
    "# dereg_value.append(dereg.partition(\"as\")[0].strip())\n",
    "# print(dereg_value)"
   ]
  },
  {
   "cell_type": "code",
   "execution_count": 177,
   "id": "de956932",
   "metadata": {},
   "outputs": [
    {
     "name": "stdout",
     "output_type": "stream",
     "text": [
      "['$76,889']\n"
     ]
    }
   ],
   "source": [
    "# # coe\n",
    "# c = soup.body.find('div', {'id':'main_left'}).find('table', {'id':'carInfo'}).select('tr:nth-of-type(3)')[0].find('td').select('div:nth-of-type(4)')[0].find('div', {'class':'row_info'}).string\n",
    "# coe.append(c.strip())\n",
    "# print(coe)"
   ]
  },
  {
   "cell_type": "code",
   "execution_count": 178,
   "id": "b47ea8cb",
   "metadata": {},
   "outputs": [
    {
     "name": "stdout",
     "output_type": "stream",
     "text": [
      "['1,598 cc']\n"
     ]
    }
   ],
   "source": [
    "# # engine cap\n",
    "# eng = soup.body.find('div', {'id':'main_left'}).find('table', {'id':'carInfo'}).select('tr:nth-of-type(3)')[0].find('td').select('div:nth-of-type(5)')[0].find('div', {'class':'row_info'}).string\n",
    "# engine_cap.append(eng.strip())\n",
    "# print(engine_cap)"
   ]
  },
  {
   "cell_type": "code",
   "execution_count": 179,
   "id": "e123ea7e",
   "metadata": {},
   "outputs": [
    {
     "name": "stdout",
     "output_type": "stream",
     "text": [
      "['1,410 kg']\n"
     ]
    }
   ],
   "source": [
    "# # curb weight\n",
    "# curb = soup.body.find('div', {'id':'main_left'}).find('table', {'id':'carInfo'}).select('tr:nth-of-type(3)')[0].find('td').select('div:nth-of-type(6)')[0].find('div', {'class':'row_info'}).string\n",
    "# curb_weight.append(curb.strip())\n",
    "# print(curb_weight)"
   ]
  },
  {
   "cell_type": "code",
   "execution_count": 180,
   "id": "70f12d8f",
   "metadata": {},
   "outputs": [],
   "source": [
    "# for right side column\n",
    "# manufactured year, transmission, OMV, ARF, power, No. of owners"
   ]
  },
  {
   "cell_type": "code",
   "execution_count": 181,
   "id": "64e36b6d",
   "metadata": {},
   "outputs": [
    {
     "name": "stdout",
     "output_type": "stream",
     "text": [
      "['2014']\n"
     ]
    }
   ],
   "source": [
    "# # manufactured year\n",
    "# manuYear = soup.body.find('div', {'id':'main_left'}).find('table', {'id':'carInfo'}).select('tr:nth-of-type(3)')[0].select('td:nth-of-type(2)')[0].select('div:nth-of-type(1)')[0].find('div', {'class':'row_info'}).string\n",
    "# manufactured_year.append(manuYear.strip())\n",
    "# print(manufactured_year)"
   ]
  },
  {
   "cell_type": "code",
   "execution_count": 182,
   "id": "d6950a80",
   "metadata": {},
   "outputs": [
    {
     "name": "stdout",
     "output_type": "stream",
     "text": [
      "['Auto']\n"
     ]
    }
   ],
   "source": [
    "# # transmission\n",
    "# trans = soup.body.find('div', {'id':'main_left'}).find('table', {'id':'carInfo'}).select('tr:nth-of-type(3)')[0].select('td:nth-of-type(2)')[0].find('div', {'class':'eachInfo'}).next_sibling.next_sibling.find('div', {'class':'row_info'}).string\n",
    "# transmission.append(trans.strip())\n",
    "# print(transmission)"
   ]
  },
  {
   "cell_type": "code",
   "execution_count": 183,
   "id": "09f5423c",
   "metadata": {},
   "outputs": [
    {
     "name": "stdout",
     "output_type": "stream",
     "text": [
      "['$34,553']\n"
     ]
    }
   ],
   "source": [
    "# # OMV\n",
    "# oMV = soup.body.find('div', {'id':'main_left'}).find('table', {'id':'carInfo'}).select('tr:nth-of-type(3)')[0].select('td:nth-of-type(2)')[0].select('div:nth-of-type(3)')[0].find('div', {'class':'row_info'}).string\n",
    "# omv.append(oMV.strip())\n",
    "# print(omv)"
   ]
  },
  {
   "cell_type": "code",
   "execution_count": 184,
   "id": "5a9857f1",
   "metadata": {},
   "outputs": [
    {
     "name": "stdout",
     "output_type": "stream",
     "text": [
      "['$30,375']\n"
     ]
    }
   ],
   "source": [
    "# # ARF\n",
    "# aRF = soup.body.find('div', {'id':'main_left'}).find('table', {'id':'carInfo'}).select('tr:nth-of-type(3)')[0].select('td:nth-of-type(2)')[0].select('div:nth-of-type(4)')[0].find('div', {'class':'row_info'}).string\n",
    "# arf.append(aRF.strip())\n",
    "# print(arf)"
   ]
  },
  {
   "cell_type": "code",
   "execution_count": 185,
   "id": "edb80655",
   "metadata": {},
   "outputs": [
    {
     "name": "stdout",
     "output_type": "stream",
     "text": [
      "['125.0 kW (167 bhp)']\n"
     ]
    }
   ],
   "source": [
    "# # Power\n",
    "# pOW = soup.body.find('div', {'id':'main_left'}).find('table', {'id':'carInfo'}).select('tr:nth-of-type(3)')[0].select('td:nth-of-type(2)')[0].select('div:nth-of-type(5)')[0].find('div', {'class':'row_info'}).string\n",
    "# power.append(pOW.strip())\n",
    "# print(power)"
   ]
  },
  {
   "cell_type": "code",
   "execution_count": 186,
   "id": "95810d2e",
   "metadata": {},
   "outputs": [
    {
     "name": "stdout",
     "output_type": "stream",
     "text": [
      "['2']\n"
     ]
    }
   ],
   "source": [
    "# # number of owners\n",
    "# owner = soup.body.find('div', {'id':'main_left'}).find('table', {'id':'carInfo'}).select('tr:nth-of-type(3)')[0].select('td:nth-of-type(2)')[0].select('div:nth-of-type(6)')[0].find('div', {'class':'row_info'}).string\n",
    "# number_of_owner.append(owner.strip())\n",
    "# print(number_of_owner)"
   ]
  },
  {
   "cell_type": "code",
   "execution_count": 187,
   "id": "1caa1760",
   "metadata": {},
   "outputs": [
    {
     "name": "stdout",
     "output_type": "stream",
     "text": [
      "['Luxury Sedan']\n"
     ]
    }
   ],
   "source": [
    "# # type of vehicles\n",
    "# typeV = soup.body.find('div', {'id':'main_left'}).find('table', {'id':'carInfo'}).select('tr:nth-of-type(4)')[0].find('a').string\n",
    "# types.append(typeV.strip())\n",
    "# print(types)"
   ]
  },
  {
   "cell_type": "code",
   "execution_count": 188,
   "id": "b80c5fca",
   "metadata": {},
   "outputs": [
    {
     "name": "stdout",
     "output_type": "stream",
     "text": [
      "['Features BMW 1.6L inline 4 cylinder twin power turbocharged engine producing 167bhp, 270nm of torque. 8 speed (A) Steptronic transmission. View specs of the BM View specs of the BMW 320i']\n"
     ]
    }
   ],
   "source": [
    "# # features\n",
    "# f = soup.body.find('div', {'id':'main_left'}).find('table', {'id':'carInfo'}).select('tr:nth-of-type(5)')[0].text\n",
    "# cleaned_f = ' '.join([t for t in (f.replace('\\r', '').replace('\\n','').strip().split(\" \")) if len(t) > 0])\n",
    "# features.append(cleaned_f)\n",
    "# print(features)"
   ]
  },
  {
   "cell_type": "code",
   "execution_count": 192,
   "id": "b97e1f6f",
   "metadata": {},
   "outputs": [
    {
     "name": "stdout",
     "output_type": "stream",
     "text": [
      "['Accessories BMW iDrive, navigation, retractable mirror, LED DRL, comfort access with keyless start, Bluetooth connectivity.']\n"
     ]
    }
   ],
   "source": [
    "# # accessories\n",
    "# a = soup.body.find('div', {'id':'main_left'}).find('table', {'id':'carInfo'}).select('tr:nth-of-type(6)')[0].text\n",
    "# cleaned_a = ' '.join([t for t in (a.replace('\\r', '').replace('\\n','').strip().split(\" \")) if len(t) > 0])\n",
    "# accessories.append(cleaned_a)\n",
    "# print(accessories)"
   ]
  },
  {
   "cell_type": "code",
   "execution_count": 195,
   "id": "45f5ae02",
   "metadata": {},
   "outputs": [
    {
     "name": "stdout",
     "output_type": "stream",
     "text": [
      "['Description Second owner only. Very good condition. All wear and tear done. Full servicing record. Highest trade in. Standard/high bank loan, balloon loan, in house loan. 100% loan available. 1 day loan approval. Viewing & test drive today at balestier office anytime.']\n"
     ]
    }
   ],
   "source": [
    "# # descriptions\n",
    "# d = soup.body.find('div', {'id':'main_left'}).find('table', {'id':'carInfo'}).select('tr:nth-of-type(7)')[0].text\n",
    "# cleaned_d = ' '.join([t for t in (d.replace('\\r', '').replace('\\n','').strip().split(\" \")) if len(t) > 0])\n",
    "# descriptions.append(cleaned_d)\n",
    "# print(descriptions)"
   ]
  },
  {
   "cell_type": "code",
   "execution_count": 198,
   "id": "a757245e",
   "metadata": {},
   "outputs": [
    {
     "name": "stdout",
     "output_type": "stream",
     "text": [
      "['This car comes with 6-mth Sgcarmart Warranty, the best protection for your car. Ask the dealer to activate the warranty to start the coverage.$0 Repair BillsComprehensive Vehicle Inspection']\n"
     ]
    }
   ],
   "source": [
    "# # warranty\n",
    "# w = soup.body.find('div', {'id':'main_left'}).find('table', {'id':'carInfo'}).select('tr:nth-of-type(8)')[0].text\n",
    "# cleaned_w = ' '.join([t for t in (w.replace('\\r', '').replace('\\n','').strip().split(\" \")) if len(t) > 0])\n",
    "# warranty.append(cleaned_w)\n",
    "# print(warranty)"
   ]
  },
  {
   "cell_type": "code",
   "execution_count": 220,
   "id": "54efb9a7",
   "metadata": {},
   "outputs": [
    {
     "name": "stdout",
     "output_type": "stream",
     "text": [
      "['PARF Car, Premium Ad Car, Sgcarmart Warranty Cars']\n"
     ]
    }
   ],
   "source": [
    "# # category\n",
    "# cat = soup.body.find('div', {'id':'main_left'}).find('table', {'id':'carInfo'}).select('tr:nth-of-type(9)')[0].find('td').text\n",
    "# cleaned_cat = ' '.join([t for t in (cat.replace('\\r', '').replace('\\n','').replace('Category', '').strip().split(\" \")) if len(t) > 0])\n",
    "# category.append(cleaned_cat)\n",
    "# print(category)"
   ]
  },
  {
   "cell_type": "code",
   "execution_count": 224,
   "id": "9e7520bb",
   "metadata": {},
   "outputs": [
    {
     "name": "stdout",
     "output_type": "stream",
     "text": [
      "['Available for sale. Shortlist this car to get alerted whenever the price or availability changes.']\n"
     ]
    }
   ],
   "source": [
    "# # status\n",
    "# stat = soup.body.find('div', {'id':'main_left'}).find('table', {'id':'carInfo'}).select('tr:nth-of-type(10)')[0].find('td').text\n",
    "# cleaned_stat = ' '.join([t for t in (stat.replace('\\r', '').replace('\\n','').replace('Status', '').strip().split(\" \")) if len(t) > 0])\n",
    "# status.append(cleaned_stat)\n",
    "# print(status)"
   ]
  }
 ],
 "metadata": {
  "kernelspec": {
   "display_name": "Python 3 (ipykernel)",
   "language": "python",
   "name": "python3"
  },
  "language_info": {
   "codemirror_mode": {
    "name": "ipython",
    "version": 3
   },
   "file_extension": ".py",
   "mimetype": "text/x-python",
   "name": "python",
   "nbconvert_exporter": "python",
   "pygments_lexer": "ipython3",
   "version": "3.9.13"
  }
 },
 "nbformat": 4,
 "nbformat_minor": 5
}
