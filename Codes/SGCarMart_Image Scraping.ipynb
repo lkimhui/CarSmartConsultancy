{
 "cells": [
  {
   "cell_type": "code",
   "execution_count": 68,
   "id": "1ee7d324",
   "metadata": {},
   "outputs": [],
   "source": [
    "# import libraries\n",
    "from bs4 import BeautifulSoup\n",
    "import requests as req\n",
    "import pickle\n",
    "import re\n",
    "import pandas as pd\n",
    "import numpy as np\n",
    "from io import BytesIO\n",
    "from PIL import Image\n",
    "import functools\n",
    "import operator"
   ]
  },
  {
   "cell_type": "code",
   "execution_count": 69,
   "id": "be2d3748",
   "metadata": {},
   "outputs": [],
   "source": [
    "# define a function which scrape url based on number of pages\n",
    "\n",
    "# subfunction 1\n",
    "def get_carModelUrl(url):\n",
    "    html = req.get(url)\n",
    "    soup = BeautifulSoup(html.content, 'lxml')\n",
    "    href = soup.body.find('div', {'id':'content'}).find('form', {'name':'searchform'}).next_sibling.next_sibling.find_all(href=re.compile(r\"(^(info.php).*)\"), string=True)\n",
    "    return href\n",
    "\n",
    "# subfunction 2\n",
    "def get_keypairs(hrefString):\n",
    "    \n",
    "    idValue = re.search(\"(?<=\\?ID=)\\d+(?=\\&)\", str(hrefString))\n",
    "    dlValue = re.search(\"(?<=\\;DL=)\\d+(?=(\\\"|\\&))\", str(hrefString))\n",
    "    \n",
    "    return idValue[0].strip(), dlValue[0].strip()\n",
    "\n",
    "# main function 1: get the webpage url\n",
    "def scrape_url(page):\n",
    "    \n",
    "    #convert page to list of car per page\n",
    "    pageToList = [(i+1)*100 for i in range(page)]\n",
    "    \n",
    "    #create BeautifulSoup object\n",
    "    urlList = [f\"https://www.sgcarmart.com/used_cars/listing.php?BRSR={car}&RPG=100\" for car in pageToList]\n",
    "    carModelUrlList = list(map(get_carModelUrl, urlList))\n",
    "    \n",
    "    #flatten the list\n",
    "    carModelUrlList = functools.reduce(operator.iconcat, carModelUrlList, [])\n",
    "    \n",
    "    #get keypairs(id-dl)\n",
    "    keypairsList = list(map(get_keypairs, carModelUrlList))\n",
    "    \n",
    "    #reformat the webpage url\n",
    "    carModelUrlList = list(map(lambda x: f\"https://www.sgcarmart.com/used_cars/info.php?ID={x[0]}&DL={x[1]}\", keypairsList))\n",
    "    \n",
    "    return carModelUrlList"
   ]
  },
  {
   "cell_type": "code",
   "execution_count": null,
   "id": "9ec54652",
   "metadata": {},
   "outputs": [],
   "source": [
    "# main function 2: get the image link\n",
    "def scrape_image(url):\n",
    "    html = req.get(url)\n",
    "    soup = BeautifulSoup(html.content, 'lxml')\n",
    "    \n",
    "    image_url = ''\n",
    "    try:\n",
    "        image_url = soup.body.find('div', {'id':'contentblank'}).select('div:nth-of-type(2)')[0].select('div:nth-of-type(5)')[0].select('div:nth-of-type(1)')[0].next_sibling.next_sibling.findAll('img')[0].attrs['src']\n",
    "    except:\n",
    "        image_url = None\n",
    "        pass\n",
    "    \n",
    "    model = soup.body.find('div', {'id':'contentblank'}).select('div:nth-of-type(2)')[0].select('div:nth-of-type(1)')[0].text.strip()\n",
    "    #clean the model text\n",
    "    if model.find(\"(\") >= 0:\n",
    "        model = model.partition(\"(\")[0]\n",
    "    \n",
    "    return model, image_url"
   ]
  },
  {
   "cell_type": "code",
   "execution_count": 102,
   "id": "bed4b20d",
   "metadata": {},
   "outputs": [],
   "source": [
    "# subfunction 1\n",
    "def download_image(model, url):\n",
    "    # use pillow to read the btye string\n",
    "    response = req.get(url)\n",
    "    if response.status_code == 200:\n",
    "        img = Image.open(BytesIO(response.content))\n",
    "        #specify your directory below\n",
    "        img.save(f\"/Users/eesoonhang/Library/CloudStorage/OneDrive-Personal/04. MTech_Y2_Sem1/4.0 Project/Resources/{model}.jpg\")\n",
    "\n",
    "# main function 3\n",
    "def save_image(df):\n",
    "    return np.where(df['Image'] != None, download_image(df['Model'], df['Image']), None)"
   ]
  },
  {
   "cell_type": "code",
   "execution_count": 94,
   "id": "5d0bddb3",
   "metadata": {},
   "outputs": [],
   "source": [
    "# run main function 1: get webpage url based o\n",
    "carModelUrls = scrape_url(1)\n",
    "%time images = list(map(scrape_image, carModelUrls))"
   ]
  },
  {
   "cell_type": "code",
   "execution_count": 96,
   "id": "5b4ff0fe",
   "metadata": {},
   "outputs": [
    {
     "data": {
      "text/html": [
       "<div>\n",
       "<style scoped>\n",
       "    .dataframe tbody tr th:only-of-type {\n",
       "        vertical-align: middle;\n",
       "    }\n",
       "\n",
       "    .dataframe tbody tr th {\n",
       "        vertical-align: top;\n",
       "    }\n",
       "\n",
       "    .dataframe thead th {\n",
       "        text-align: right;\n",
       "    }\n",
       "</style>\n",
       "<table border=\"1\" class=\"dataframe\">\n",
       "  <thead>\n",
       "    <tr style=\"text-align: right;\">\n",
       "      <th></th>\n",
       "      <th>Model</th>\n",
       "      <th>Image</th>\n",
       "    </tr>\n",
       "  </thead>\n",
       "  <tbody>\n",
       "    <tr>\n",
       "      <th>0</th>\n",
       "      <td>Volkswagen Beetle Cabriolet 1.2A TSI</td>\n",
       "      <td>https://i.i-sgcm.com/cars_used/202303/1183410_...</td>\n",
       "    </tr>\n",
       "    <tr>\n",
       "      <th>1</th>\n",
       "      <td>BMW 5 Series 528i</td>\n",
       "      <td>https://i.i-sgcm.com/cars_used/202303/1182097_...</td>\n",
       "    </tr>\n",
       "    <tr>\n",
       "      <th>2</th>\n",
       "      <td>Audi Q2 1.0A TFSI S-tronic</td>\n",
       "      <td>https://i.i-sgcm.com/cars_used/202304/1187648_...</td>\n",
       "    </tr>\n",
       "    <tr>\n",
       "      <th>3</th>\n",
       "      <td>BMW 2 Series 218i Active Tourer</td>\n",
       "      <td>https://i.i-sgcm.com/cars_used/202304/1187646_...</td>\n",
       "    </tr>\n",
       "    <tr>\n",
       "      <th>4</th>\n",
       "      <td>Land Rover Range Rover Sport Diesel 3.0A 7-Seater</td>\n",
       "      <td>https://i.i-sgcm.com/cars_used/202304/1187587_...</td>\n",
       "    </tr>\n",
       "    <tr>\n",
       "      <th>...</th>\n",
       "      <td>...</td>\n",
       "      <td>...</td>\n",
       "    </tr>\n",
       "    <tr>\n",
       "      <th>95</th>\n",
       "      <td>Audi A5 Sportback 2.0A TFSI S-tronic Design</td>\n",
       "      <td>https://i.i-sgcm.com/cars_used/202303/1178530_...</td>\n",
       "    </tr>\n",
       "    <tr>\n",
       "      <th>96</th>\n",
       "      <td>Mercedes-Benz CLA-Class CLA180 Shooting Brake ...</td>\n",
       "      <td>https://i.i-sgcm.com/cars_used/202303/1178241_...</td>\n",
       "    </tr>\n",
       "    <tr>\n",
       "      <th>97</th>\n",
       "      <td>BMW 5 Series 530i Luxury</td>\n",
       "      <td>https://i.i-sgcm.com/cars_used/202303/1176203_...</td>\n",
       "    </tr>\n",
       "    <tr>\n",
       "      <th>98</th>\n",
       "      <td>MINI Cooper 1.5A 5DR Seven Edition</td>\n",
       "      <td>https://i.i-sgcm.com/cars_used/202302/1174725_...</td>\n",
       "    </tr>\n",
       "    <tr>\n",
       "      <th>99</th>\n",
       "      <td>Land Rover Discovery Sport Diesel 2.0A SE 7-Se...</td>\n",
       "      <td>https://i.i-sgcm.com/cars_used/202302/1173751_...</td>\n",
       "    </tr>\n",
       "  </tbody>\n",
       "</table>\n",
       "<p>100 rows × 2 columns</p>\n",
       "</div>"
      ],
      "text/plain": [
       "                                                Model  \\\n",
       "0                Volkswagen Beetle Cabriolet 1.2A TSI   \n",
       "1                                   BMW 5 Series 528i   \n",
       "2                          Audi Q2 1.0A TFSI S-tronic   \n",
       "3                     BMW 2 Series 218i Active Tourer   \n",
       "4   Land Rover Range Rover Sport Diesel 3.0A 7-Seater   \n",
       "..                                                ...   \n",
       "95        Audi A5 Sportback 2.0A TFSI S-tronic Design   \n",
       "96  Mercedes-Benz CLA-Class CLA180 Shooting Brake ...   \n",
       "97                           BMW 5 Series 530i Luxury   \n",
       "98                 MINI Cooper 1.5A 5DR Seven Edition   \n",
       "99  Land Rover Discovery Sport Diesel 2.0A SE 7-Se...   \n",
       "\n",
       "                                                Image  \n",
       "0   https://i.i-sgcm.com/cars_used/202303/1183410_...  \n",
       "1   https://i.i-sgcm.com/cars_used/202303/1182097_...  \n",
       "2   https://i.i-sgcm.com/cars_used/202304/1187648_...  \n",
       "3   https://i.i-sgcm.com/cars_used/202304/1187646_...  \n",
       "4   https://i.i-sgcm.com/cars_used/202304/1187587_...  \n",
       "..                                                ...  \n",
       "95  https://i.i-sgcm.com/cars_used/202303/1178530_...  \n",
       "96  https://i.i-sgcm.com/cars_used/202303/1178241_...  \n",
       "97  https://i.i-sgcm.com/cars_used/202303/1176203_...  \n",
       "98  https://i.i-sgcm.com/cars_used/202302/1174725_...  \n",
       "99  https://i.i-sgcm.com/cars_used/202302/1173751_...  \n",
       "\n",
       "[100 rows x 2 columns]"
      ]
     },
     "execution_count": 96,
     "metadata": {},
     "output_type": "execute_result"
    }
   ],
   "source": [
    "# convert the model and image link to a dataframe\n",
    "df = pd.DataFrame(images, columns=['Model', 'Image'])"
   ]
  },
  {
   "cell_type": "code",
   "execution_count": 103,
   "id": "e502c842",
   "metadata": {},
   "outputs": [
    {
     "data": {
      "application/vnd.jupyter.widget-view+json": {
       "model_id": "232c8ce5c04945238c8718a2d7fe4dea",
       "version_major": 2,
       "version_minor": 0
      },
      "text/plain": [
       "Pandas Apply:   0%|          | 0/100 [00:00<?, ?it/s]"
      ]
     },
     "metadata": {},
     "output_type": "display_data"
    },
    {
     "data": {
      "text/plain": [
       "0     None\n",
       "1     None\n",
       "2     None\n",
       "3     None\n",
       "4     None\n",
       "      ... \n",
       "95    None\n",
       "96    None\n",
       "97    None\n",
       "98    None\n",
       "99    None\n",
       "Length: 100, dtype: object"
      ]
     },
     "execution_count": 103,
     "metadata": {},
     "output_type": "execute_result"
    }
   ],
   "source": [
    "# run main function 3: download image to directory\n",
    "import swifter\n",
    "df.swifter.apply(save_image, axis=1)"
   ]
  }
 ],
 "metadata": {
  "kernelspec": {
   "display_name": "Python 3 (ipykernel)",
   "language": "python",
   "name": "python3"
  },
  "language_info": {
   "codemirror_mode": {
    "name": "ipython",
    "version": 3
   },
   "file_extension": ".py",
   "mimetype": "text/x-python",
   "name": "python",
   "nbconvert_exporter": "python",
   "pygments_lexer": "ipython3",
   "version": "3.9.13"
  }
 },
 "nbformat": 4,
 "nbformat_minor": 5
}
