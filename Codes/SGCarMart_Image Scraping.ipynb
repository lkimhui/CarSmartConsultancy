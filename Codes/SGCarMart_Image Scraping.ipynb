{
 "cells": [
  {
   "cell_type": "code",
   "execution_count": 1,
   "id": "1ee7d324",
   "metadata": {},
   "outputs": [],
   "source": [
    "# import libraries\n",
    "from bs4 import BeautifulSoup\n",
    "import requests as req\n",
    "import pickle\n",
    "import re\n",
    "import pandas as pd\n",
    "import numpy as np\n",
    "from io import BytesIO\n",
    "from PIL import Image\n",
    "import functools\n",
    "import operator"
   ]
  },
  {
   "cell_type": "code",
   "execution_count": 2,
   "id": "be2d3748",
   "metadata": {},
   "outputs": [],
   "source": [
    "# define a function which scrape url based on number of pages\n",
    "\n",
    "# subfunction 1\n",
    "def get_carModelUrl(url):\n",
    "    html = req.get(url)\n",
    "    soup = BeautifulSoup(html.content, 'lxml')\n",
    "    href = soup.body.find('div', {'id':'content'}).find('form', {'name':'searchform'}).next_sibling.next_sibling.find_all(href=re.compile(r\"(^(info.php).*)\"), string=True)\n",
    "    return href\n",
    "\n",
    "# subfunction 2\n",
    "def get_keypairs(hrefString):\n",
    "    \n",
    "    idValue = re.search(\"(?<=\\?ID=)\\d+(?=\\&)\", str(hrefString))\n",
    "    dlValue = re.search(\"(?<=\\;DL=)\\d+(?=(\\\"|\\&))\", str(hrefString))\n",
    "    \n",
    "    return idValue[0].strip(), dlValue[0].strip()\n",
    "\n",
    "# main function 1: get the webpage url\n",
    "def scrape_url(page):\n",
    "    \n",
    "    #convert page to list of car per page\n",
    "    pageToList = [(i+1)*100 for i in range(page)]\n",
    "    \n",
    "    #create BeautifulSoup object\n",
    "    urlList = [f\"https://www.sgcarmart.com/used_cars/listing.php?BRSR={car}&RPG=100\" for car in pageToList]\n",
    "    carModelUrlList = list(map(get_carModelUrl, urlList))\n",
    "    \n",
    "    #flatten the list\n",
    "    carModelUrlList = functools.reduce(operator.iconcat, carModelUrlList, [])\n",
    "    \n",
    "    #get keypairs(id-dl)\n",
    "    keypairsList = list(map(get_keypairs, carModelUrlList))\n",
    "    \n",
    "    #reformat the webpage url\n",
    "    carModelUrlList = list(map(lambda x: f\"https://www.sgcarmart.com/used_cars/info.php?ID={x[0]}&DL={x[1]}\", keypairsList))\n",
    "    \n",
    "    return carModelUrlList"
   ]
  },
  {
   "cell_type": "code",
   "execution_count": 3,
   "id": "9ec54652",
   "metadata": {},
   "outputs": [],
   "source": [
    "# main function 2: get the image link\n",
    "def scrape_image(url):\n",
    "    html = req.get(url)\n",
    "    soup = BeautifulSoup(html.content, 'lxml')\n",
    "    \n",
    "    image_url = ''\n",
    "    try:\n",
    "        image_url = soup.body.find('div', {'id':'contentblank'}).select('div:nth-of-type(2)')[0].select('div:nth-of-type(5)')[0].select('div:nth-of-type(1)')[0].next_sibling.next_sibling.findAll('img')[0].attrs['src']\n",
    "    except:\n",
    "        image_url = None\n",
    "        pass\n",
    "    \n",
    "    model = soup.body.find('div', {'id':'contentblank'}).select('div:nth-of-type(2)')[0].select('div:nth-of-type(1)')[0].text.strip()\n",
    "    #clean the model text\n",
    "    if model.find(\"(\") >= 0:\n",
    "        model = model.partition(\"(\")[0]\n",
    "    \n",
    "    return model, image_url"
   ]
  },
  {
   "cell_type": "code",
   "execution_count": 13,
   "id": "bed4b20d",
   "metadata": {},
   "outputs": [],
   "source": [
    "# subfunction 1\n",
    "def download_image(model, url):\n",
    "    # use pillow to read the btye string\n",
    "    response = req.get(url)\n",
    "    if response.status_code == 200:\n",
    "        img = Image.open(BytesIO(response.content))\n",
    "        #specify your directory below\n",
    "        if img.mode != 'RGB':\n",
    "            img = img.convert('RGB')\n",
    "        img.save(f\"Y:/Documents/GitHub/CarSmartConsultancy/Data/img_data/{model}.jpg\")\n",
    "\n",
    "# main function 3\n",
    "def save_image(df):\n",
    "    return np.where(df['Image'] != None, download_image(df['Model'], df['Image']), None)"
   ]
  },
  {
   "cell_type": "code",
   "execution_count": 11,
   "id": "5d0bddb3",
   "metadata": {},
   "outputs": [
    {
     "name": "stdout",
     "output_type": "stream",
     "text": [
      "CPU times: total: 28.6 s\n",
      "Wall time: 57.1 s\n"
     ]
    }
   ],
   "source": [
    "# run main function 1: get webpage url based o\n",
    "carModelUrls = scrape_url(1)\n",
    "%time images = list(map(scrape_image, carModelUrls))"
   ]
  },
  {
   "cell_type": "code",
   "execution_count": 6,
   "id": "5b4ff0fe",
   "metadata": {},
   "outputs": [],
   "source": [
    "# convert the model and image link to a dataframe\n",
    "df = pd.DataFrame(images, columns=['Model', 'Image'])"
   ]
  },
  {
   "cell_type": "code",
   "execution_count": 14,
   "id": "e502c842",
   "metadata": {},
   "outputs": [
    {
     "data": {
      "application/vnd.jupyter.widget-view+json": {
       "model_id": "5281469b5d8d4184a7e47b82fd04999e",
       "version_major": 2,
       "version_minor": 0
      },
      "text/plain": [
       "Pandas Apply:   0%|          | 0/100 [00:00<?, ?it/s]"
      ]
     },
     "metadata": {},
     "output_type": "display_data"
    },
    {
     "name": "stderr",
     "output_type": "stream",
     "text": [
      "c:\\Users\\lkimhui\\anaconda3\\lib\\site-packages\\PIL\\Image.py:959: UserWarning: Palette images with Transparency expressed in bytes should be converted to RGBA images\n",
      "  warnings.warn(\n"
     ]
    },
    {
     "data": {
      "text/plain": [
       "0     None\n",
       "1     None\n",
       "2     None\n",
       "3     None\n",
       "4     None\n",
       "      ... \n",
       "95    None\n",
       "96    None\n",
       "97    None\n",
       "98    None\n",
       "99    None\n",
       "Length: 100, dtype: object"
      ]
     },
     "execution_count": 14,
     "metadata": {},
     "output_type": "execute_result"
    }
   ],
   "source": [
    "# run main function 3: download image to directory\n",
    "import swifter\n",
    "df.swifter.apply(save_image, axis=1)"
   ]
  }
 ],
 "metadata": {
  "kernelspec": {
   "display_name": "Python 3 (ipykernel)",
   "language": "python",
   "name": "python3"
  },
  "language_info": {
   "codemirror_mode": {
    "name": "ipython",
    "version": 3
   },
   "file_extension": ".py",
   "mimetype": "text/x-python",
   "name": "python",
   "nbconvert_exporter": "python",
   "pygments_lexer": "ipython3",
   "version": "3.9.13"
  }
 },
 "nbformat": 4,
 "nbformat_minor": 5
}
