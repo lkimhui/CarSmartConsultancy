{
 "cells": [
  {
   "cell_type": "code",
   "execution_count": 48,
   "id": "b74e06ff",
   "metadata": {},
   "outputs": [],
   "source": [
    "# import libraries\n",
    "from bs4 import BeautifulSoup\n",
    "import requests as req\n",
    "import pickle\n",
    "import re"
   ]
  },
  {
   "cell_type": "code",
   "execution_count": 49,
   "id": "e98a77b3",
   "metadata": {},
   "outputs": [],
   "source": [
    "# define url, then grab the html text\n",
    "url = \"https://www.sgcarmart.com/used_cars/listing.php?BRSR=0&RPG=20\"\n",
    "html_text = req.get(url)\n",
    "soup = BeautifulSoup(html_text.content, \"lxml\")"
   ]
  },
  {
   "cell_type": "code",
   "execution_count": 110,
   "id": "2c535845",
   "metadata": {},
   "outputs": [
    {
     "name": "stdout",
     "output_type": "stream",
     "text": [
      "total listings found: 33197\n"
     ]
    }
   ],
   "source": [
    "# get total number of listings found\n",
    "listings = soup.body.find('div', {'class': 'listing_searchbar_position'}).p.string.replace(\" \", \"\")\n",
    "cleaned_listings = re.sub(\"\\D\", '', listings)\n",
    "listings_count = int(cleaned_listings)\n",
    "print(\"total listings found: %d\" %listings_count)"
   ]
  },
  {
   "cell_type": "code",
   "execution_count": 106,
   "id": "5980ae45",
   "metadata": {},
   "outputs": [
    {
     "name": "stdout",
     "output_type": "stream",
     "text": [
      "[<a href=\"info.php?ID=1174626&amp;DL=2650\">BMW 5 Series 523i (COE till 08/2030)</a>, <a href=\"info.php?ID=1174618&amp;DL=2121\">Mitsubishi Outlander 2.4A Sunroof</a>, <a href=\"info.php?ID=1174615&amp;DL=2121\">Toyota Vios 1.5A E</a>, <a href=\"info.php?ID=1174613&amp;DL=2121\">Audi A3 Sedan Mild Hybrid 1.5A TFSI S-tronic</a>, <a href=\"info.php?ID=1166807&amp;DL=3133\">Skoda Kodiaq 1.4A TSI Ambition Plus 7-Seater</a>, <a href=\"info.php?ID=1156356&amp;DL=3133\">Volkswagen Passat 1.8A TFSI Highline Sunroof</a>, <a href=\"info.php?ID=1165546&amp;DL=1213\">Mercedes-Benz S-Class S320L</a>, <a href=\"info.php?ID=1146958&amp;DL=2690\">Kia Cerato Forte Koup 1.6M SX Sunroof (COE till 05/2030)</a>, <a href=\"info.php?ID=1174625&amp;DL=2494\">Honda Stream 1.8A (COE till 07/2023)</a>, <a href=\"info.php?ID=1174622&amp;DL=3846\">Nissan GTR 3.8A (COE till 08/2028)</a>, <a href=\"info.php?ID=1174609&amp;DL=3597\">BMW 1 Series 116d</a>, <a href=\"info.php?ID=1174607&amp;DL=3175\">Porsche Macan Turbo 3.6A PDK</a>, <a href=\"info.php?ID=1174338&amp;DL=1136\">Mazda 3 HB 1.5A Deluxe Sunroof</a>, <a href=\"info.php?ID=1170725&amp;DL=3368\">Toyota Vios 1.5A E</a>, <a href=\"info.php?ID=1167971&amp;DL=3133\">Mercedes-Benz CLA-Class CLA35 AMG 4MATIC</a>, <a href=\"info.php?ID=1164679&amp;DL=3368\">BMW 3 Series 318i Shadow Edition</a>, <a href=\"info.php?ID=1164673&amp;DL=3368\">BMW 2 Series 216i Gran Tourer</a>, <a href=\"info.php?ID=1158992&amp;DL=3133\">Audi A5 Cabriolet Mild Hybrid 2.0A TFSI S-tronic Advanced</a>, <a href=\"info.php?ID=1132800&amp;DL=3133\">Mercedes-Benz E-Class E400 Cabriolet AMG</a>, <a href=\"info.php?ID=1132248&amp;DL=3133\">Jaguar F-Type 3.0A S Coupe</a>]\n"
     ]
    }
   ],
   "source": [
    "# find a spefic href tag pattern\n",
    "def car_model_href(href):\n",
    "    return href and re.compile(r\"(^(info.php).*)\").search(href)\n",
    "\n",
    "# car models found per page\n",
    "car_model_list = soup.body.find('div', {'id':'content'}).find('form', {'name':'searchform'}).next_sibling.next_sibling.find_all(href=car_model_href, string=True)\n",
    "print(soup.body.find('div', {'id':'content'}).find('form', {'name':'searchform'}).next_sibling.next_sibling.find_all(href=car_model_href, string=True))"
   ]
  },
  {
   "cell_type": "code",
   "execution_count": 107,
   "id": "9f01add6",
   "metadata": {},
   "outputs": [
    {
     "name": "stdout",
     "output_type": "stream",
     "text": [
      "20\n"
     ]
    }
   ],
   "source": [
    "print(len(car_model_list))"
   ]
  },
  {
   "cell_type": "code",
   "execution_count": 121,
   "id": "ffc10d5b",
   "metadata": {},
   "outputs": [
    {
     "name": "stdout",
     "output_type": "stream",
     "text": [
      "{'1174626': '2650', '1174618': '2121', '1174615': '2121', '1174613': '2121', '1166807': '3133', '1156356': '3133', '1165546': '1213', '1146958': '2690', '1174625': '2494', '1174622': '3846', '1174609': '3597', '1174607': '3175', '1174338': '1136', '1170725': '3368', '1167971': '3133', '1164679': '3368', '1164673': '3368', '1158992': '3133', '1132800': '3133', '1132248': '3133'}\n"
     ]
    }
   ],
   "source": [
    "car_id_dl_map = {}\n",
    "id_list = []\n",
    "dl_list = []\n",
    "for model in car_model_list:\n",
    "    id = str(model).partition('ID')[2].partition('&')[0].partition('=')[-1]\n",
    "    dl = str(model).partition('DL')[2].partition('\"')[0].partition('=')[-1]\n",
    "    if id not in car_id_dl_map:\n",
    "        car_id_dl_map[id] = dl\n",
    "        id_list.append(id)\n",
    "        dl_list.append(dl)\n",
    "    \n",
    "print(car_id_dl_map)"
   ]
  },
  {
   "cell_type": "code",
   "execution_count": null,
   "id": "b5b5665a",
   "metadata": {},
   "outputs": [],
   "source": []
  }
 ],
 "metadata": {
  "kernelspec": {
   "display_name": "Python 3 (ipykernel)",
   "language": "python",
   "name": "python3"
  },
  "language_info": {
   "codemirror_mode": {
    "name": "ipython",
    "version": 3
   },
   "file_extension": ".py",
   "mimetype": "text/x-python",
   "name": "python",
   "nbconvert_exporter": "python",
   "pygments_lexer": "ipython3",
   "version": "3.9.13"
  }
 },
 "nbformat": 4,
 "nbformat_minor": 5
}
