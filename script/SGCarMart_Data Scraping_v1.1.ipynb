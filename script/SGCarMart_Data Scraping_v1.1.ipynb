{
 "cells": [
  {
   "cell_type": "code",
   "execution_count": null,
   "id": "0b9d2efd",
   "metadata": {
    "id": "0b9d2efd",
    "outputId": "a958796f-5d77-41d7-f3df-3a0b588a4eca"
   },
   "outputs": [
    {
     "data": {
      "text/plain": [
       "'\\nScrape data from:\\n1. https://www.sgcarmart.com/used_cars/info_financial.php?ID={}\\n2. https://www.sgcarmart.com/used_cars/info.php?ID={}\\n\\nScrape data for:\\n1. price (from financial table - table: {id:usedcar_price_id}, {attr:value})\\n2. depreciation/year\\n3. reg date\\n4. manufactured year\\n5. mileage\\n6. road tax\\n7. transmission\\n8. dereg value\\n9. OMV (open market value)\\n10. COE\\n11. ARF (additional refistration fees)\\n12. Engine cap\\n13. power\\n14. curb weight\\n15. number of owner\\n16. types\\n17. features\\n18. accessories\\n19. descriptions\\n20. warranty\\n21. category\\n22. status\\n'"
      ]
     },
     "execution_count": 227,
     "metadata": {},
     "output_type": "execute_result"
    }
   ],
   "source": [
    "'''\n",
    "Scrape data from:\n",
    "1. https://www.sgcarmart.com/used_cars/info_financial.php?ID={}\n",
    "2. https://www.sgcarmart.com/used_cars/info.php?ID={}\n",
    "\n",
    "Scrape data for:\n",
    "1. price (from financial table - table: {id:usedcar_price_id}, {attr:value})\n",
    "2. depreciation/year\n",
    "3. reg date\n",
    "4. manufactured year\n",
    "5. mileage\n",
    "6. road tax\n",
    "7. transmission\n",
    "8. dereg value\n",
    "9. OMV (open market value)\n",
    "10. COE\n",
    "11. ARF (additional refistration fees)\n",
    "12. Engine cap\n",
    "13. power\n",
    "14. curb weight\n",
    "15. number of owner\n",
    "16. types\n",
    "17. features\n",
    "18. accessories\n",
    "19. descriptions\n",
    "20. warranty\n",
    "21. category\n",
    "22. status\n",
    "'''"
   ]
  },
  {
   "cell_type": "code",
   "execution_count": 23,
   "id": "53f21838",
   "metadata": {},
   "outputs": [
    {
     "name": "stdout",
     "output_type": "stream",
     "text": [
      "Collecting selenium\n",
      "  Downloading selenium-4.8.3-py3-none-any.whl (6.5 MB)\n",
      "\u001b[2K     \u001b[90m━━━━━━━━━━━━━━━━━━━━━━━━━━━━━━━━━━━━━━━━\u001b[0m \u001b[32m6.5/6.5 MB\u001b[0m \u001b[31m19.6 MB/s\u001b[0m eta \u001b[36m0:00:00\u001b[0m00:01\u001b[0m00:01\u001b[0m\n",
      "\u001b[?25hRequirement already satisfied: urllib3[socks]~=1.26 in /usr/local/anaconda3/lib/python3.9/site-packages (from selenium) (1.26.11)\n",
      "Collecting trio-websocket~=0.9\n",
      "  Downloading trio_websocket-0.10.2-py3-none-any.whl (17 kB)\n",
      "Collecting trio~=0.17\n",
      "  Using cached trio-0.22.0-py3-none-any.whl (384 kB)\n",
      "Requirement already satisfied: certifi>=2021.10.8 in /usr/local/anaconda3/lib/python3.9/site-packages (from selenium) (2022.9.24)\n",
      "Requirement already satisfied: sortedcontainers in /usr/local/anaconda3/lib/python3.9/site-packages (from trio~=0.17->selenium) (2.4.0)\n",
      "Requirement already satisfied: sniffio in /usr/local/anaconda3/lib/python3.9/site-packages (from trio~=0.17->selenium) (1.2.0)\n",
      "Requirement already satisfied: attrs>=19.2.0 in /usr/local/anaconda3/lib/python3.9/site-packages (from trio~=0.17->selenium) (21.4.0)\n",
      "Requirement already satisfied: idna in /usr/local/anaconda3/lib/python3.9/site-packages (from trio~=0.17->selenium) (3.3)\n",
      "Collecting async-generator>=1.9\n",
      "  Using cached async_generator-1.10-py3-none-any.whl (18 kB)\n",
      "Collecting outcome\n",
      "  Using cached outcome-1.2.0-py2.py3-none-any.whl (9.7 kB)\n",
      "Collecting exceptiongroup>=1.0.0rc9\n",
      "  Downloading exceptiongroup-1.1.1-py3-none-any.whl (14 kB)\n",
      "Collecting wsproto>=0.14\n",
      "  Using cached wsproto-1.2.0-py3-none-any.whl (24 kB)\n",
      "Requirement already satisfied: PySocks!=1.5.7,<2.0,>=1.5.6 in /usr/local/anaconda3/lib/python3.9/site-packages (from urllib3[socks]~=1.26->selenium) (1.7.1)\n",
      "Collecting h11<1,>=0.9.0\n",
      "  Using cached h11-0.14.0-py3-none-any.whl (58 kB)\n",
      "Installing collected packages: outcome, h11, exceptiongroup, async-generator, wsproto, trio, trio-websocket, selenium\n",
      "Successfully installed async-generator-1.10 exceptiongroup-1.1.1 h11-0.14.0 outcome-1.2.0 selenium-4.8.3 trio-0.22.0 trio-websocket-0.10.2 wsproto-1.2.0\n",
      "Note: you may need to restart the kernel to use updated packages.\n"
     ]
    }
   ],
   "source": [
    "pip install selenium"
   ]
  },
  {
   "cell_type": "code",
   "execution_count": 41,
   "id": "cc5b7788",
   "metadata": {
    "id": "cc5b7788"
   },
   "outputs": [],
   "source": [
    "# import libraries\n",
    "from bs4 import BeautifulSoup\n",
    "import requests as req\n",
    "import pickle\n",
    "import re\n",
    "import pandas as pd"
   ]
  },
  {
   "cell_type": "code",
   "execution_count": 42,
   "id": "pJTiGASX7Xi6",
   "metadata": {
    "id": "pJTiGASX7Xi6"
   },
   "outputs": [],
   "source": [
    "# find a spefic href tag pattern\n",
    "def car_model_href(href):\n",
    "    return href and re.compile(r\"(^(info.php).*)\").search(href)\n",
    "\n",
    "# creating lists for records\n",
    "car_id_dl_map = {}\n",
    "id_list = []\n",
    "dl_list = []"
   ]
  },
  {
   "cell_type": "code",
   "execution_count": 43,
   "id": "b5b5665a",
   "metadata": {
    "id": "b5b5665a"
   },
   "outputs": [],
   "source": [
    "# loop through all pages in sgcarmart used car listing\n",
    "BRSR = 0\n",
    "RPG = 100\n",
    "for BRSR in range(0, 300, 100): #100000\n",
    "      url = f\"https://www.sgcarmart.com/used_cars/listing.php?BRSR={BRSR}&RPG={RPG}\"\n",
    "      html_text = req.get(url)\n",
    "      soup = BeautifulSoup(html_text.content, \"lxml\")\n",
    "      listings = soup.body.find('div', {'class': 'listing_searchbar_position'}).p.string.replace(\" \", \"\")\n",
    "      cleaned_listings = re.sub(\"\\D\", '', listings)\n",
    "      listings_count = int(cleaned_listings)\n",
    "      # car models found per page\n",
    "      car_model_list = soup.body.find('div', {'id':'content'}).find('form', {'name':'searchform'}).next_sibling.next_sibling.find_all(href=car_model_href, string=True)\n",
    "      for model in car_model_list:\n",
    "          id = str(model).partition('ID')[2].partition('&')[0].partition('=')[-1]\n",
    "          dl = str(model).partition('DL')[2].partition('\"')[0].partition('=')[-1]\n",
    "          if id not in car_id_dl_map:\n",
    "              car_id_dl_map[id] = dl\n",
    "              id_list.append(id)\n",
    "              dl_list.append(dl)"
   ]
  },
  {
   "cell_type": "code",
   "execution_count": 45,
   "id": "O78yksYgDrGz",
   "metadata": {
    "colab": {
     "base_uri": "https://localhost:8080/"
    },
    "executionInfo": {
     "elapsed": 666,
     "status": "ok",
     "timestamp": 1679503063805,
     "user": {
      "displayName": "Lim KimHui",
      "userId": "08891717214305272956"
     },
     "user_tz": -480
    },
    "id": "O78yksYgDrGz",
    "outputId": "6d1726e7-c413-468d-be0c-4a930aae60ed"
   },
   "outputs": [
    {
     "name": "stdout",
     "output_type": "stream",
     "text": [
      "car_id_dl_map {'1182884': '4114', '1182883': '3037', '1182788': '4031', '1182887': '2191', '1182881': '2296', '1182871': '1000', '1124035': '2349', '1178266': '4354', '1182885': '3382', '1182875': '1000', '1182872': '1000', '1182800': '1120', '1178434': '4382', '1151243': '3545', '1182879': '3175', '1182878': '1000', '1057583': '2563', '1182868': '3142', '1162635': '2163', '1158366': '4207', '1181633': '3789', '1178032': '2396', '1173503': '4381', '1182877': '3922', '1178754': '3954', '1178750': '4207', '1147998': '4207', '1182874': '4168', '1182873': '2080', '1182865': '2389', '1182870': '2391', '1182869': '2547', '1182864': '2391', '1182866': '3447', '1182862': '3028', '1182861': '4252', '1182860': '1351', '1182859': '3100', '1182858': '2387', '1182857': '3989', '1182854': '3037', '1176705': '1354', '1171874': '2397', '1163748': '1354', '1143234': '2976', '1136430': '3218', '1182856': '1277', '1182853': '1360', '1182591': '2976', '1175768': '4309', '1173033': '2493', '1154708': '3582', '1127891': '2493', '1182852': '1016', '1182850': '2133', '1182849': '2052', '1182848': '1360', '1180321': '3582', '1179677': '3582', '1177578': '3218', '1177570': '3218', '1177222': '2976', '1175053': '3582', '1174563': '1354', '1173688': '1354', '1148410': '3218', '1144779': '2493', '1140536': '2493', '1182844': '2080', '1182576': '2783', '1180326': '4430', '1180324': '4430', '1178711': '4430', '1109803': '2783', '1182842': '3034', '1182841': '3895', '1182840': '3961', '1182839': '1135', '1182838': '4309', '1182700': '2689', '1182380': '2870', '1181650': '2726', '1178920': '4430', '1176992': '2927', '1176393': '2689', '1171864': '3486', '1166612': '2689', '1147853': '2783', '1145874': '3486', '1144965': '2783', '1092152': '2783', '1182837': '3544', '1182826': '1000', '1182785': '4247', '1182697': '3750', '1181492': '2341', '1172429': '2189', '1168469': '3004', '1152907': '2783', '1182831': '2192', '1182808': '1152', '1180522': '2689', '1179571': '3004', '1179113': '3616', '1174151': '3004', '1172054': '2189', '1167668': '3777', '1156940': '2783', '1149297': '2927', '1102939': '2783', '1182836': '1000', '1182817': '1123', '1179556': '3004', '1182814': '1272', '1182796': '4229', '1182824': '3749', '1182835': '3794', '1182823': '2563', '1182834': '3034', '1182827': '1111', '1182741': '1054', '1182832': '1061', '1182828': '2440', '1182821': '3283', '1182793': '1351', '1182789': '3602', '1182783': '1360', '1180790': '3845', '1178237': '1000', '1149999': '3175', '1182776': '1000', '1182754': '2356', '1182753': '1000', '1179629': '3271', '1177372': '3271', '1182822': '4074', '1182819': '4123', '1182813': '2725', '1182798': '3649', '1178311': '3271', '1176017': '3271', '1182833': '3541', '1182829': '3137', '1182820': '3900', '1182777': '3946', '1182751': '2025', '1182639': '3137', '1182596': '2757', '1182493': '3750', '1181878': '1000', '1181009': '3137', '1149254': '1189', '1146678': '1189', '1182816': '2875', '1182766': '3476', '1182615': '3750', '1168187': '1189', '1160689': '1189', '1155287': '1189', '1149419': '4123', '1146033': '1189', '1182782': '1000', '1182750': '1194', '1179076': '2245', '1178158': '1189', '1174615': '2121', '1162925': '3393', '1143816': '1189', '1134478': '1189', '1182818': '2408', '1182811': '2408', '1182810': '3764', '1182792': '2425', '1182784': '3137', '1182760': '1016', '1182583': '1264', '1174825': '2351', '1164660': '3801', '1164339': '2351', '1151873': '3518', '1151470': '2984', '1146551': '3995', '1133746': '2984', '1182815': '3466', '1182812': '2793', '1182797': '2397', '1182787': '3451', '1182773': '1032', '1182771': '3845', '1182749': '3466', '1181651': '3100', '1174618': '2121', '1174613': '2121', '1163537': '3995', '1151584': '2563', '1129839': '2984', '1182809': '1256', '1182805': '3034', '1182801': '3742', '1182791': '2138', '1182780': '4229', '1182748': '1194', '1182743': '3392', '1182699': '1000', '1181102': '1000', '1179428': '1000', '1179028': '2351', '1174022': '3801', '1166199': '2927', '1165151': '1000', '1164745': '2927', '1157029': '2927', '1152793': '2927', '1150469': '2927', '1150398': '2984', '1132468': '2351', '1123111': '3318', '1116070': '2927', '1182807': '1228', '1182795': '1135', '1182778': '3287', '1182775': '2428', '1182688': '1000', '1180523': '2927', '1157979': '2356', '1139610': '1272', '1133155': '2741', '1123633': '2356', '1119656': '2927', '1077062': '2927', '1182804': '3649', '1182803': '1269', '1182802': '1245', '1182794': '1277', '1182790': '2473', '1182786': '3863', '1182781': '1240', '1182779': '1340', '1182774': '2764', '1182772': '1240', '1182770': '2282', '1182769': '1238', '1182767': '2189', '1182765': '2975', '1182763': '2943', '1182762': '4166', '1182759': '1032', '1182758': '2283', '1182757': '1164', '1182756': '3466', '1182755': '2291', '1182752': '3471', '1182747': '3133', '1182746': '2650', '1182745': '1028', '1182744': '3602', '1182742': '3777', '1182740': '1024', '1182738': '2389', '1182737': '2854', '1182734': '3156', '1182733': '2189', '1182732': '3570', '1182731': '1028', '1182730': '2650', '1182729': '3587', '1182728': '2052', '1182727': '1106', '1182725': '2976', '1182723': '2077', '1182722': '3587', '1182720': '1354', '1182719': '1360', '1182716': '1213', '1182714': '2049', '1182712': '1311', '1182711': '3155', '1182708': '3155', '1182706': '3768', '1182705': '3175', '1182704': '1213', '1182703': '3518', '1182659': '3534', '1182532': '2795', '1182454': '3887', '1182394': '4174', '1182351': '4391', '1181563': '3091', '1181538': '3392', '1180991': '2175', '1180193': '2138', '1179668': '4200', '1179461': '3210', '1179199': '4396', '1178528': '2969', '1177743': '1032', '1177548': '2358', '1177428': '4299', '1176817': '2296', '1176324': '2138'}\n",
      "keys :  dict_keys(['1182884', '1182883', '1182788', '1182887', '1182881', '1182871', '1124035', '1178266', '1182885', '1182875', '1182872', '1182800', '1178434', '1151243', '1182879', '1182878', '1057583', '1182868', '1162635', '1158366', '1181633', '1178032', '1173503', '1182877', '1178754', '1178750', '1147998', '1182874', '1182873', '1182865', '1182870', '1182869', '1182864', '1182866', '1182862', '1182861', '1182860', '1182859', '1182858', '1182857', '1182854', '1176705', '1171874', '1163748', '1143234', '1136430', '1182856', '1182853', '1182591', '1175768', '1173033', '1154708', '1127891', '1182852', '1182850', '1182849', '1182848', '1180321', '1179677', '1177578', '1177570', '1177222', '1175053', '1174563', '1173688', '1148410', '1144779', '1140536', '1182844', '1182576', '1180326', '1180324', '1178711', '1109803', '1182842', '1182841', '1182840', '1182839', '1182838', '1182700', '1182380', '1181650', '1178920', '1176992', '1176393', '1171864', '1166612', '1147853', '1145874', '1144965', '1092152', '1182837', '1182826', '1182785', '1182697', '1181492', '1172429', '1168469', '1152907', '1182831', '1182808', '1180522', '1179571', '1179113', '1174151', '1172054', '1167668', '1156940', '1149297', '1102939', '1182836', '1182817', '1179556', '1182814', '1182796', '1182824', '1182835', '1182823', '1182834', '1182827', '1182741', '1182832', '1182828', '1182821', '1182793', '1182789', '1182783', '1180790', '1178237', '1149999', '1182776', '1182754', '1182753', '1179629', '1177372', '1182822', '1182819', '1182813', '1182798', '1178311', '1176017', '1182833', '1182829', '1182820', '1182777', '1182751', '1182639', '1182596', '1182493', '1181878', '1181009', '1149254', '1146678', '1182816', '1182766', '1182615', '1168187', '1160689', '1155287', '1149419', '1146033', '1182782', '1182750', '1179076', '1178158', '1174615', '1162925', '1143816', '1134478', '1182818', '1182811', '1182810', '1182792', '1182784', '1182760', '1182583', '1174825', '1164660', '1164339', '1151873', '1151470', '1146551', '1133746', '1182815', '1182812', '1182797', '1182787', '1182773', '1182771', '1182749', '1181651', '1174618', '1174613', '1163537', '1151584', '1129839', '1182809', '1182805', '1182801', '1182791', '1182780', '1182748', '1182743', '1182699', '1181102', '1179428', '1179028', '1174022', '1166199', '1165151', '1164745', '1157029', '1152793', '1150469', '1150398', '1132468', '1123111', '1116070', '1182807', '1182795', '1182778', '1182775', '1182688', '1180523', '1157979', '1139610', '1133155', '1123633', '1119656', '1077062', '1182804', '1182803', '1182802', '1182794', '1182790', '1182786', '1182781', '1182779', '1182774', '1182772', '1182770', '1182769', '1182767', '1182765', '1182763', '1182762', '1182759', '1182758', '1182757', '1182756', '1182755', '1182752', '1182747', '1182746', '1182745', '1182744', '1182742', '1182740', '1182738', '1182737', '1182734', '1182733', '1182732', '1182731', '1182730', '1182729', '1182728', '1182727', '1182725', '1182723', '1182722', '1182720', '1182719', '1182716', '1182714', '1182712', '1182711', '1182708', '1182706', '1182705', '1182704', '1182703', '1182659', '1182532', '1182454', '1182394', '1182351', '1181563', '1181538', '1180991', '1180193', '1179668', '1179461', '1179199', '1178528', '1177743', '1177548', '1177428', '1176817', '1176324'])\n",
      "values :  dict_values(['4114', '3037', '4031', '2191', '2296', '1000', '2349', '4354', '3382', '1000', '1000', '1120', '4382', '3545', '3175', '1000', '2563', '3142', '2163', '4207', '3789', '2396', '4381', '3922', '3954', '4207', '4207', '4168', '2080', '2389', '2391', '2547', '2391', '3447', '3028', '4252', '1351', '3100', '2387', '3989', '3037', '1354', '2397', '1354', '2976', '3218', '1277', '1360', '2976', '4309', '2493', '3582', '2493', '1016', '2133', '2052', '1360', '3582', '3582', '3218', '3218', '2976', '3582', '1354', '1354', '3218', '2493', '2493', '2080', '2783', '4430', '4430', '4430', '2783', '3034', '3895', '3961', '1135', '4309', '2689', '2870', '2726', '4430', '2927', '2689', '3486', '2689', '2783', '3486', '2783', '2783', '3544', '1000', '4247', '3750', '2341', '2189', '3004', '2783', '2192', '1152', '2689', '3004', '3616', '3004', '2189', '3777', '2783', '2927', '2783', '1000', '1123', '3004', '1272', '4229', '3749', '3794', '2563', '3034', '1111', '1054', '1061', '2440', '3283', '1351', '3602', '1360', '3845', '1000', '3175', '1000', '2356', '1000', '3271', '3271', '4074', '4123', '2725', '3649', '3271', '3271', '3541', '3137', '3900', '3946', '2025', '3137', '2757', '3750', '1000', '3137', '1189', '1189', '2875', '3476', '3750', '1189', '1189', '1189', '4123', '1189', '1000', '1194', '2245', '1189', '2121', '3393', '1189', '1189', '2408', '2408', '3764', '2425', '3137', '1016', '1264', '2351', '3801', '2351', '3518', '2984', '3995', '2984', '3466', '2793', '2397', '3451', '1032', '3845', '3466', '3100', '2121', '2121', '3995', '2563', '2984', '1256', '3034', '3742', '2138', '4229', '1194', '3392', '1000', '1000', '1000', '2351', '3801', '2927', '1000', '2927', '2927', '2927', '2927', '2984', '2351', '3318', '2927', '1228', '1135', '3287', '2428', '1000', '2927', '2356', '1272', '2741', '2356', '2927', '2927', '3649', '1269', '1245', '1277', '2473', '3863', '1240', '1340', '2764', '1240', '2282', '1238', '2189', '2975', '2943', '4166', '1032', '2283', '1164', '3466', '2291', '3471', '3133', '2650', '1028', '3602', '3777', '1024', '2389', '2854', '3156', '2189', '3570', '1028', '2650', '3587', '2052', '1106', '2976', '2077', '3587', '1354', '1360', '1213', '2049', '1311', '3155', '3155', '3768', '3175', '1213', '3518', '3534', '2795', '3887', '4174', '4391', '3091', '3392', '2175', '2138', '4200', '3210', '4396', '2969', '1032', '2358', '4299', '2296', '2138'])\n",
      "keysList :  ['1182884', '1182883', '1182788', '1182887', '1182881', '1182871', '1124035', '1178266', '1182885', '1182875', '1182872', '1182800', '1178434', '1151243', '1182879', '1182878', '1057583', '1182868', '1162635', '1158366', '1181633', '1178032', '1173503', '1182877', '1178754', '1178750', '1147998', '1182874', '1182873', '1182865', '1182870', '1182869', '1182864', '1182866', '1182862', '1182861', '1182860', '1182859', '1182858', '1182857', '1182854', '1176705', '1171874', '1163748', '1143234', '1136430', '1182856', '1182853', '1182591', '1175768', '1173033', '1154708', '1127891', '1182852', '1182850', '1182849', '1182848', '1180321', '1179677', '1177578', '1177570', '1177222', '1175053', '1174563', '1173688', '1148410', '1144779', '1140536', '1182844', '1182576', '1180326', '1180324', '1178711', '1109803', '1182842', '1182841', '1182840', '1182839', '1182838', '1182700', '1182380', '1181650', '1178920', '1176992', '1176393', '1171864', '1166612', '1147853', '1145874', '1144965', '1092152', '1182837', '1182826', '1182785', '1182697', '1181492', '1172429', '1168469', '1152907', '1182831', '1182808', '1180522', '1179571', '1179113', '1174151', '1172054', '1167668', '1156940', '1149297', '1102939', '1182836', '1182817', '1179556', '1182814', '1182796', '1182824', '1182835', '1182823', '1182834', '1182827', '1182741', '1182832', '1182828', '1182821', '1182793', '1182789', '1182783', '1180790', '1178237', '1149999', '1182776', '1182754', '1182753', '1179629', '1177372', '1182822', '1182819', '1182813', '1182798', '1178311', '1176017', '1182833', '1182829', '1182820', '1182777', '1182751', '1182639', '1182596', '1182493', '1181878', '1181009', '1149254', '1146678', '1182816', '1182766', '1182615', '1168187', '1160689', '1155287', '1149419', '1146033', '1182782', '1182750', '1179076', '1178158', '1174615', '1162925', '1143816', '1134478', '1182818', '1182811', '1182810', '1182792', '1182784', '1182760', '1182583', '1174825', '1164660', '1164339', '1151873', '1151470', '1146551', '1133746', '1182815', '1182812', '1182797', '1182787', '1182773', '1182771', '1182749', '1181651', '1174618', '1174613', '1163537', '1151584', '1129839', '1182809', '1182805', '1182801', '1182791', '1182780', '1182748', '1182743', '1182699', '1181102', '1179428', '1179028', '1174022', '1166199', '1165151', '1164745', '1157029', '1152793', '1150469', '1150398', '1132468', '1123111', '1116070', '1182807', '1182795', '1182778', '1182775', '1182688', '1180523', '1157979', '1139610', '1133155', '1123633', '1119656', '1077062', '1182804', '1182803', '1182802', '1182794', '1182790', '1182786', '1182781', '1182779', '1182774', '1182772', '1182770', '1182769', '1182767', '1182765', '1182763', '1182762', '1182759', '1182758', '1182757', '1182756', '1182755', '1182752', '1182747', '1182746', '1182745', '1182744', '1182742', '1182740', '1182738', '1182737', '1182734', '1182733', '1182732', '1182731', '1182730', '1182729', '1182728', '1182727', '1182725', '1182723', '1182722', '1182720', '1182719', '1182716', '1182714', '1182712', '1182711', '1182708', '1182706', '1182705', '1182704', '1182703', '1182659', '1182532', '1182454', '1182394', '1182351', '1181563', '1181538', '1180991', '1180193', '1179668', '1179461', '1179199', '1178528', '1177743', '1177548', '1177428', '1176817', '1176324']\n",
      "valuesList :  ['4114', '3037', '4031', '2191', '2296', '1000', '2349', '4354', '3382', '1000', '1000', '1120', '4382', '3545', '3175', '1000', '2563', '3142', '2163', '4207', '3789', '2396', '4381', '3922', '3954', '4207', '4207', '4168', '2080', '2389', '2391', '2547', '2391', '3447', '3028', '4252', '1351', '3100', '2387', '3989', '3037', '1354', '2397', '1354', '2976', '3218', '1277', '1360', '2976', '4309', '2493', '3582', '2493', '1016', '2133', '2052', '1360', '3582', '3582', '3218', '3218', '2976', '3582', '1354', '1354', '3218', '2493', '2493', '2080', '2783', '4430', '4430', '4430', '2783', '3034', '3895', '3961', '1135', '4309', '2689', '2870', '2726', '4430', '2927', '2689', '3486', '2689', '2783', '3486', '2783', '2783', '3544', '1000', '4247', '3750', '2341', '2189', '3004', '2783', '2192', '1152', '2689', '3004', '3616', '3004', '2189', '3777', '2783', '2927', '2783', '1000', '1123', '3004', '1272', '4229', '3749', '3794', '2563', '3034', '1111', '1054', '1061', '2440', '3283', '1351', '3602', '1360', '3845', '1000', '3175', '1000', '2356', '1000', '3271', '3271', '4074', '4123', '2725', '3649', '3271', '3271', '3541', '3137', '3900', '3946', '2025', '3137', '2757', '3750', '1000', '3137', '1189', '1189', '2875', '3476', '3750', '1189', '1189', '1189', '4123', '1189', '1000', '1194', '2245', '1189', '2121', '3393', '1189', '1189', '2408', '2408', '3764', '2425', '3137', '1016', '1264', '2351', '3801', '2351', '3518', '2984', '3995', '2984', '3466', '2793', '2397', '3451', '1032', '3845', '3466', '3100', '2121', '2121', '3995', '2563', '2984', '1256', '3034', '3742', '2138', '4229', '1194', '3392', '1000', '1000', '1000', '2351', '3801', '2927', '1000', '2927', '2927', '2927', '2927', '2984', '2351', '3318', '2927', '1228', '1135', '3287', '2428', '1000', '2927', '2356', '1272', '2741', '2356', '2927', '2927', '3649', '1269', '1245', '1277', '2473', '3863', '1240', '1340', '2764', '1240', '2282', '1238', '2189', '2975', '2943', '4166', '1032', '2283', '1164', '3466', '2291', '3471', '3133', '2650', '1028', '3602', '3777', '1024', '2389', '2854', '3156', '2189', '3570', '1028', '2650', '3587', '2052', '1106', '2976', '2077', '3587', '1354', '1360', '1213', '2049', '1311', '3155', '3155', '3768', '3175', '1213', '3518', '3534', '2795', '3887', '4174', '4391', '3091', '3392', '2175', '2138', '4200', '3210', '4396', '2969', '1032', '2358', '4299', '2296', '2138']\n"
     ]
    }
   ],
   "source": [
    "# printing car_id_dl_map_dictionary\n",
    "print(\"car_id_dl_map\", str(car_id_dl_map))\n",
    " \n",
    "# split dictionary into keys and values\n",
    "keys = car_id_dl_map.keys()\n",
    "values = car_id_dl_map.values()\n",
    " \n",
    "# printing keys and values separately\n",
    "print(\"keys : \", str(keys))\n",
    "print(\"values : \", str(values))\n",
    "\n",
    "# convert dictionary into list\n",
    "keysList = list(car_id_dl_map.keys())\n",
    "valuesList = list(car_id_dl_map.values())\n",
    "\n",
    "# printing keyslist and valueslist separately\n",
    "print(\"keysList : \", str(keysList))\n",
    "print(\"valuesList : \", str(valuesList))"
   ]
  },
  {
   "cell_type": "code",
   "execution_count": 46,
   "id": "bfb069ff",
   "metadata": {
    "id": "bfb069ff",
    "outputId": "8e873235-84ec-4b7b-dfce-c29789ff88fc"
   },
   "outputs": [],
   "source": [
    "# # define url, then grab the html table\n",
    "# # to loop the url_list\n",
    "# url = \"https://www.sgcarmart.com/used_cars/info.php?ID=1174653\"\n",
    "# html_text = req.get(url)\n",
    "# soup = BeautifulSoup(html_text.content, \"lxml\")\n",
    "# print(type(soup))"
   ]
  },
  {
   "cell_type": "code",
   "execution_count": 47,
   "id": "c9e53dcb",
   "metadata": {
    "id": "c9e53dcb"
   },
   "outputs": [],
   "source": [
    "# create empty list for each feature\n",
    "price = []\n",
    "depreciation = []\n",
    "reg_date = []\n",
    "mileage = []\n",
    "road_tax = []\n",
    "dereg_value = []\n",
    "coe = []\n",
    "engine_cap = []\n",
    "types = []\n",
    "curb_weight = []\n",
    "manufactured_year = []\n",
    "transmission = []\n",
    "fule_type = [] # newly added\n",
    "omv = []\n",
    "arf = []\n",
    "power = []\n",
    "number_of_owner = []\n",
    "features = []\n",
    "accessories = []\n",
    "descriptions = []\n",
    "category = []\n",
    "status = []\n",
    "#warranty = [] # removed from the website"
   ]
  },
  {
   "cell_type": "code",
   "execution_count": 48,
   "id": "047f3697",
   "metadata": {
    "id": "047f3697"
   },
   "outputs": [],
   "source": [
    "# Methods to scrape each features\n",
    "def get_price(soup):\n",
    "    pr = soup.body.find('div', {'id':'main_left'}).find('table', {'id':'carInfo'}).find('tr').find_all('strong')[1]\n",
    "    pr = str(pr).partition('/')[0].partition('>')[-1].partition('<')[0].strip()\n",
    "    return pr\n",
    "\n",
    "def get_depreciation(soup):\n",
    "    dep = soup.body.find('div', {'id':'main_left'}).find('table', {'id':'carInfo'}).select('tr:nth-of-type(2)')[0].select('td:nth-of-type(2)')[0].find_all(string=re.compile(\"$\"))\n",
    "    dep = dep[0].replace(\" \", \"\").strip().partition('/')[0]\n",
    "    return dep\n",
    "\n",
    "def get_registrationDate(soup):\n",
    "    regDate = soup.body.find('div', {'id':'main_left'}).find('table', {'id':'carInfo'}).select('tr:nth-of-type(2)')[0].select('td:nth-of-type(4)')[0].find_all(string=True)\n",
    "    reg = regDate[0].strip()\n",
    "    return reg\n",
    "\n",
    "def get_mileage(soup):\n",
    "    mi = soup.body.find('div', {'id':'main_left'}).find('table', {'id':'carInfo'}).select('tr:nth-of-type(3)')[0].find('td').select('div:nth-of-type(1)')[0].find('div', {'class':'row_info'}).string\n",
    "    mi = mi.strip()\n",
    "    return mi\n",
    "\n",
    "def get_roadTax(soup):\n",
    "    roadTax = soup.body.find('div', {'id':'main_left'}).find('table', {'id':'carInfo'}).select('tr:nth-of-type(3)')[0].find('td').select('div:nth-of-type(1)')[0].next_sibling.next_sibling.find('div', {'class':'row_info'}).string\n",
    "    roadTax = roadTax.strip()\n",
    "    return roadTax\n",
    "\n",
    "def get_deregistrationValue(soup):\n",
    "    dereg = soup.body.find('div', {'id':'main_left'}).find('table', {'id':'carInfo'}).select('tr:nth-of-type(3)')[0].find('td').select('div:nth-of-type(3)')[0].find('div', {'class':'row_info'}).find(string=re.compile(\"$\"))\n",
    "    dereg = dereg.partition(\"as\")[0].strip()\n",
    "    return dereg\n",
    "\n",
    "def get_coe(soup):\n",
    "    coe = soup.body.find('div', {'id':'main_left'}).find('table', {'id':'carInfo'}).select('tr:nth-of-type(3)')[0].find('td').select('div:nth-of-type(4)')[0].find('div', {'class':'row_info'}).string\n",
    "    coe = coe.strip()\n",
    "    return coe\n",
    "\n",
    "def get_engineCap(soup):\n",
    "    eng = soup.body.find('div', {'id':'main_left'}).find('table', {'id':'carInfo'}).select('tr:nth-of-type(3)')[0].find('td').select('div:nth-of-type(5)')[0].find('div', {'class':'row_info'}).string\n",
    "    eng = eng.strip()\n",
    "    return eng\n",
    "\n",
    "def get_curbWeight(soup):\n",
    "    weight = soup.body.find('div', {'id':'main_left'}).find('table', {'id':'carInfo'}).select('tr:nth-of-type(3)')[0].find('td').select('div:nth-of-type(6)')[0].find('div', {'class':'row_info'}).string\n",
    "    weight = weight.strip()\n",
    "    return weight\n",
    "\n",
    "def get_type(soup):\n",
    "    typ = soup.body.find('div', {'id':'main_left'}).find('table', {'id':'carInfo'}).select('tr:nth-of-type(3)')[0].find('td').select('div:nth-of-type(6)')[0].next_sibling.next_sibling.find('div', {'class':'row_info'}).text\n",
    "    typ = typ.strip()\n",
    "    return typ\n",
    "\n",
    "# right side table cannot use find('id') after select the 3rd 'tr' tag\n",
    "def get_manufacturedYear(soup):\n",
    "    year = soup.body.find('div', {'id':'main_left'}).find('table', {'id':'carInfo'}).select('tr:nth-of-type(3)')[0].select('td:nth-of-type(2)')[0].select('div:nth-of-type(1)')[0].find('div', {'class':'row_info'}).string\n",
    "    year = year.strip()\n",
    "    return year\n",
    "\n",
    "def get_transmission(soup):\n",
    "    trans = soup.body.find('div', {'id':'main_left'}).find('table', {'id':'carInfo'}).select('tr:nth-of-type(3)')[0].select('td:nth-of-type(2)')[0].find('div', {'class':'eachInfo'}).next_sibling.next_sibling.find('div', {'class':'row_info'}).string\n",
    "    trans = trans.strip()\n",
    "    return trans\n",
    "\n",
    "# newly added feature\n",
    "def get_fuelType(soup):\n",
    "    fuelType = soup.body.find('div', {'id':'main_left'}).find('table', {'id':'carInfo'}).select('tr:nth-of-type(3)')[0].select('td:nth-of-type(2)')[0].select('div:nth-of-type(3)')[0].find('div', {'class':'row_info'}).text\n",
    "    fuelType = fuelType.strip()\n",
    "    return fuelType\n",
    "\n",
    "def get_omv(soup):\n",
    "    omv = soup.body.find('div', {'id':'main_left'}).find('table', {'id':'carInfo'}).select('tr:nth-of-type(3)')[0].select('td:nth-of-type(2)')[0].select('div:nth-of-type(4)')[0].find('div', {'class':'row_info'}).string\n",
    "    omv = omv.strip()\n",
    "    return omv\n",
    "\n",
    "def get_arf(soup):\n",
    "    arf = soup.body.find('div', {'id':'main_left'}).find('table', {'id':'carInfo'}).select('tr:nth-of-type(3)')[0].select('td:nth-of-type(2)')[0].select('div:nth-of-type(5)')[0].find('div', {'class':'row_info'}).string\n",
    "    arf = arf.strip()\n",
    "    return arf\n",
    "\n",
    "def get_power(soup):\n",
    "    power = soup.body.find('div', {'id':'main_left'}).find('table', {'id':'carInfo'}).select('tr:nth-of-type(3)')[0].select('td:nth-of-type(2)')[0].select('div:nth-of-type(6)')[0].find('div', {'class':'row_info'}).string\n",
    "    power = power.strip()\n",
    "    return power\n",
    "\n",
    "def get_number_of_owner(soup):\n",
    "    owner = soup.body.find('div', {'id':'main_left'}).find('table', {'id':'carInfo'}).select('tr:nth-of-type(3)')[0].select('td:nth-of-type(2)')[0].select('div:nth-of-type(7)')[0].find('div', {'class':'row_info'}).string\n",
    "    owner = owner.strip()\n",
    "    return owner\n",
    "\n",
    "def get_features(soup):\n",
    "    f = soup.body.find('div', {'id':'main_left'}).find('table', {'id':'carInfo'}).select('tr:nth-of-type(5)')[0].text\n",
    "    cleaned_f = ' '.join([t for t in (f.replace('\\r', '').replace('\\n','').strip().split(\" \")) if len(t) > 0])\n",
    "    return cleaned_f\n",
    "\n",
    "def get_accessories(soup):\n",
    "    a = soup.body.find('div', {'id':'main_left'}).find('table', {'id':'carInfo'}).select('tr:nth-of-type(6)')[0].text\n",
    "    cleaned_a = ' '.join([t for t in (a.replace('\\r', '').replace('\\n','').strip().split(\" \")) if len(t) > 0])\n",
    "    return cleaned_a\n",
    "\n",
    "def get_descriptions(soup):\n",
    "    d = soup.body.find('div', {'id':'main_left'}).find('table', {'id':'carInfo'}).select('tr:nth-of-type(7)')[0].text\n",
    "    cleaned_d = ' '.join([t for t in (d.replace('\\r', '').replace('\\n','').strip().split(\" \")) if len(t) > 0])\n",
    "    return cleaned_d\n",
    "\n",
    "# removed from the webpage - updated on 2023-03-23\n",
    "# def get_warranty(soup):\n",
    "#     w = soup.body.find('div', {'id':'main_left'}).find('table', {'id':'carInfo'}).select('tr:nth-of-type(8)')[0].text\n",
    "#     cleaned_w = ' '.join([t for t in (w.replace('\\r', '').replace('\\n','').strip().split(\" \")) if len(t) > 0])\n",
    "#     return cleaned_w\n",
    "\n",
    "def get_category(soup):\n",
    "    cat = soup.body.find('div', {'id':'main_left'}).find('table', {'id':'carInfo'}).select('tr:nth-of-type(8)')[0].find('td').text\n",
    "    cleaned_cat = ' '.join([t for t in (cat.replace('\\r', '').replace('\\n','').replace('Category', '').strip().split(\" \")) if len(t) > 0])\n",
    "    return cleaned_cat\n",
    "\n",
    "def get_status(soup):\n",
    "    stat = soup.body.find('div', {'id':'main_left'}).find('table', {'id':'carInfo'}).select('tr:nth-of-type(9)')[0].find('td').text\n",
    "    cleaned_stat = ' '.join([t for t in (stat.replace('\\r', '').replace('\\n','').replace('Status', '').strip().split(\" \")) if len(t) > 0])\n",
    "    return cleaned_stat\n",
    "\n"
   ]
  },
  {
   "cell_type": "code",
   "execution_count": null,
   "id": "78d692a3",
   "metadata": {},
   "outputs": [],
   "source": [
    "# for testing\n",
    "url = https://www.sgcarmart.com/used_cars/info.php?ID=1182884&DL=4114"
   ]
  },
  {
   "cell_type": "code",
   "execution_count": 49,
   "id": "9e780594",
   "metadata": {
    "id": "9e780594"
   },
   "outputs": [],
   "source": [
    "# define a function to scrape features from SGCar Mart\n",
    "def feature_scraping(url):\n",
    "    \n",
    "    print(url)\n",
    "    \n",
    "    # Get the html page\n",
    "    html_text = req.get(url)\n",
    "    soup = BeautifulSoup(html_text.content, \"lxml\")\n",
    "    \n",
    "    # Get the features\n",
    "    sgmart_data = {}\n",
    "    sgmart_data['price'] = get_price(soup)\n",
    "    sgmart_data['depreciation'] = get_depreciation(soup)\n",
    "    sgmart_data['registration_date'] = get_registrationDate(soup)\n",
    "    sgmart_data['mileage'] = get_mileage(soup)\n",
    "    sgmart_data['road_tax'] = get_roadTax(soup)\n",
    "    sgmart_data['deregistration_value'] = get_deregistrationValue(soup)\n",
    "    sgmart_data['coe'] = get_coe(soup)\n",
    "    sgmart_data['engine_cap'] = get_engineCap(soup)\n",
    "    sgmart_data['curb_weight'] = get_curbWeight(soup)\n",
    "    sgmart_data['manufactured_year'] = get_manufacturedYear(soup)\n",
    "    sgmart_data['trasmission'] = get_transmission(soup)\n",
    "    sgmart_data['fuel_type'] = get_fuelType(soup)\n",
    "    sgmart_data['omv'] = get_omv(soup)\n",
    "    sgmart_data['arf'] = get_arf(soup)\n",
    "    sgmart_data['power'] = get_power(soup)\n",
    "    sgmart_data['number_of_owner'] = get_number_of_owner(soup)\n",
    "    sgmart_data['type'] = get_type(soup)\n",
    "    sgmart_data['car_features'] = get_features(soup)\n",
    "    sgmart_data['car_accessories'] = get_accessories(soup)\n",
    "    sgmart_data['descriptions'] = get_descriptions(soup)\n",
    "    sgmart_data['warranty'] = get_warranty(soup)\n",
    "    sgmart_data['category'] = get_category(soup)\n",
    "    sgmart_data['status'] = get_status(soup)\n",
    "    return sgmart_data"
   ]
  },
  {
   "cell_type": "code",
   "execution_count": 60,
   "id": "1b0d4820",
   "metadata": {},
   "outputs": [
    {
     "name": "stdout",
     "output_type": "stream",
     "text": [
      "https://www.sgcarmart.com/used_cars/info.php?ID=1182884&DL=4114\n"
     ]
    },
    {
     "ename": "IndexError",
     "evalue": "list index out of range",
     "output_type": "error",
     "traceback": [
      "\u001b[0;31m---------------------------------------------------------------------------\u001b[0m",
      "\u001b[0;31mIndexError\u001b[0m                                Traceback (most recent call last)",
      "\u001b[0;32m/var/folders/sc/sfl3h7fj3252fxyys_m5td0w0000gn/T/ipykernel_65332/3450880502.py\u001b[0m in \u001b[0;36m<module>\u001b[0;34m\u001b[0m\n\u001b[1;32m      5\u001b[0m \u001b[0;34m\u001b[0m\u001b[0m\n\u001b[1;32m      6\u001b[0m \u001b[0mdata\u001b[0m \u001b[0;34m=\u001b[0m \u001b[0mmap\u001b[0m\u001b[0;34m(\u001b[0m\u001b[0mfeature_scraping\u001b[0m\u001b[0;34m,\u001b[0m \u001b[0murl_list\u001b[0m\u001b[0;34m)\u001b[0m\u001b[0;34m\u001b[0m\u001b[0;34m\u001b[0m\u001b[0m\n\u001b[0;32m----> 7\u001b[0;31m \u001b[0mlist\u001b[0m\u001b[0;34m(\u001b[0m\u001b[0mdata\u001b[0m\u001b[0;34m)\u001b[0m\u001b[0;34m\u001b[0m\u001b[0;34m\u001b[0m\u001b[0m\n\u001b[0m",
      "\u001b[0;32m/var/folders/sc/sfl3h7fj3252fxyys_m5td0w0000gn/T/ipykernel_65332/106853310.py\u001b[0m in \u001b[0;36mfeature_scraping\u001b[0;34m(url)\u001b[0m\n\u001b[1;32m     25\u001b[0m     \u001b[0msgmart_data\u001b[0m\u001b[0;34m[\u001b[0m\u001b[0;34m'arf'\u001b[0m\u001b[0;34m]\u001b[0m \u001b[0;34m=\u001b[0m \u001b[0mget_arf\u001b[0m\u001b[0;34m(\u001b[0m\u001b[0msoup\u001b[0m\u001b[0;34m)\u001b[0m\u001b[0;34m\u001b[0m\u001b[0;34m\u001b[0m\u001b[0m\n\u001b[1;32m     26\u001b[0m     \u001b[0msgmart_data\u001b[0m\u001b[0;34m[\u001b[0m\u001b[0;34m'power'\u001b[0m\u001b[0;34m]\u001b[0m \u001b[0;34m=\u001b[0m \u001b[0mget_power\u001b[0m\u001b[0;34m(\u001b[0m\u001b[0msoup\u001b[0m\u001b[0;34m)\u001b[0m\u001b[0;34m\u001b[0m\u001b[0;34m\u001b[0m\u001b[0m\n\u001b[0;32m---> 27\u001b[0;31m     \u001b[0msgmart_data\u001b[0m\u001b[0;34m[\u001b[0m\u001b[0;34m'number_of_owner'\u001b[0m\u001b[0;34m]\u001b[0m \u001b[0;34m=\u001b[0m \u001b[0mget_number_of_owner\u001b[0m\u001b[0;34m(\u001b[0m\u001b[0msoup\u001b[0m\u001b[0;34m)\u001b[0m\u001b[0;34m\u001b[0m\u001b[0;34m\u001b[0m\u001b[0m\n\u001b[0m\u001b[1;32m     28\u001b[0m     \u001b[0msgmart_data\u001b[0m\u001b[0;34m[\u001b[0m\u001b[0;34m'type'\u001b[0m\u001b[0;34m]\u001b[0m \u001b[0;34m=\u001b[0m \u001b[0mget_type\u001b[0m\u001b[0;34m(\u001b[0m\u001b[0msoup\u001b[0m\u001b[0;34m)\u001b[0m\u001b[0;34m\u001b[0m\u001b[0;34m\u001b[0m\u001b[0m\n\u001b[1;32m     29\u001b[0m     \u001b[0msgmart_data\u001b[0m\u001b[0;34m[\u001b[0m\u001b[0;34m'car_features'\u001b[0m\u001b[0;34m]\u001b[0m \u001b[0;34m=\u001b[0m \u001b[0mget_features\u001b[0m\u001b[0;34m(\u001b[0m\u001b[0msoup\u001b[0m\u001b[0;34m)\u001b[0m\u001b[0;34m\u001b[0m\u001b[0;34m\u001b[0m\u001b[0m\n",
      "\u001b[0;32m/var/folders/sc/sfl3h7fj3252fxyys_m5td0w0000gn/T/ipykernel_65332/370742812.py\u001b[0m in \u001b[0;36mget_number_of_owner\u001b[0;34m(soup)\u001b[0m\n\u001b[1;32m     83\u001b[0m \u001b[0;34m\u001b[0m\u001b[0m\n\u001b[1;32m     84\u001b[0m \u001b[0;32mdef\u001b[0m \u001b[0mget_number_of_owner\u001b[0m\u001b[0;34m(\u001b[0m\u001b[0msoup\u001b[0m\u001b[0;34m)\u001b[0m\u001b[0;34m:\u001b[0m\u001b[0;34m\u001b[0m\u001b[0;34m\u001b[0m\u001b[0m\n\u001b[0;32m---> 85\u001b[0;31m     \u001b[0mowner\u001b[0m \u001b[0;34m=\u001b[0m \u001b[0msoup\u001b[0m\u001b[0;34m.\u001b[0m\u001b[0mbody\u001b[0m\u001b[0;34m.\u001b[0m\u001b[0mfind\u001b[0m\u001b[0;34m(\u001b[0m\u001b[0;34m'div'\u001b[0m\u001b[0;34m,\u001b[0m \u001b[0;34m{\u001b[0m\u001b[0;34m'id'\u001b[0m\u001b[0;34m:\u001b[0m\u001b[0;34m'main_left'\u001b[0m\u001b[0;34m}\u001b[0m\u001b[0;34m)\u001b[0m\u001b[0;34m.\u001b[0m\u001b[0mfind\u001b[0m\u001b[0;34m(\u001b[0m\u001b[0;34m'table'\u001b[0m\u001b[0;34m,\u001b[0m \u001b[0;34m{\u001b[0m\u001b[0;34m'id'\u001b[0m\u001b[0;34m:\u001b[0m\u001b[0;34m'carInfo'\u001b[0m\u001b[0;34m}\u001b[0m\u001b[0;34m)\u001b[0m\u001b[0;34m.\u001b[0m\u001b[0mselect\u001b[0m\u001b[0;34m(\u001b[0m\u001b[0;34m'tr:nth-of-type(3)'\u001b[0m\u001b[0;34m)\u001b[0m\u001b[0;34m[\u001b[0m\u001b[0;36m0\u001b[0m\u001b[0;34m]\u001b[0m\u001b[0;34m.\u001b[0m\u001b[0mselect\u001b[0m\u001b[0;34m(\u001b[0m\u001b[0;34m'td:nth-of-type(2)'\u001b[0m\u001b[0;34m)\u001b[0m\u001b[0;34m[\u001b[0m\u001b[0;36m0\u001b[0m\u001b[0;34m]\u001b[0m\u001b[0;34m.\u001b[0m\u001b[0mselect\u001b[0m\u001b[0;34m(\u001b[0m\u001b[0;34m'div:nth-of-type(7)'\u001b[0m\u001b[0;34m)\u001b[0m\u001b[0;34m[\u001b[0m\u001b[0;36m0\u001b[0m\u001b[0;34m]\u001b[0m\u001b[0;34m.\u001b[0m\u001b[0mfind\u001b[0m\u001b[0;34m(\u001b[0m\u001b[0;34m'div'\u001b[0m\u001b[0;34m,\u001b[0m \u001b[0;34m{\u001b[0m\u001b[0;34m'class'\u001b[0m\u001b[0;34m:\u001b[0m\u001b[0;34m'row_info'\u001b[0m\u001b[0;34m}\u001b[0m\u001b[0;34m)\u001b[0m\u001b[0;34m.\u001b[0m\u001b[0mstring\u001b[0m\u001b[0;34m\u001b[0m\u001b[0;34m\u001b[0m\u001b[0m\n\u001b[0m\u001b[1;32m     86\u001b[0m     \u001b[0mowner\u001b[0m \u001b[0;34m=\u001b[0m \u001b[0mowner\u001b[0m\u001b[0;34m.\u001b[0m\u001b[0mstrip\u001b[0m\u001b[0;34m(\u001b[0m\u001b[0;34m)\u001b[0m\u001b[0;34m\u001b[0m\u001b[0;34m\u001b[0m\u001b[0m\n\u001b[1;32m     87\u001b[0m     \u001b[0;32mreturn\u001b[0m \u001b[0mowner\u001b[0m\u001b[0;34m\u001b[0m\u001b[0;34m\u001b[0m\u001b[0m\n",
      "\u001b[0;31mIndexError\u001b[0m: list index out of range"
     ]
    }
   ],
   "source": [
    "url_list = []\n",
    "for key, value in car_id_dl_map.items():\n",
    "    url = f\"https://www.sgcarmart.com/used_cars/info.php?ID={key}&DL={value}\"\n",
    "    url_list.append(url)\n",
    "\n",
    "data = map(feature_scraping, url_list)\n",
    "list(data)"
   ]
  },
  {
   "cell_type": "code",
   "execution_count": 50,
   "id": "i9qNWiB9X3S-",
   "metadata": {
    "colab": {
     "base_uri": "https://localhost:8080/"
    },
    "id": "i9qNWiB9X3S-",
    "outputId": "4d9b0d08-09a4-4eba-8f83-91950eceb3d5"
   },
   "outputs": [
    {
     "name": "stdout",
     "output_type": "stream",
     "text": [
      "https://www.sgcarmart.com/used_cars/info.php?ID=1182884&DL=4114\n",
      "https://www.sgcarmart.com/used_cars/info.php?ID=1182883&DL=3037\n",
      "https://www.sgcarmart.com/used_cars/info.php?ID=1182788&DL=4031\n",
      "https://www.sgcarmart.com/used_cars/info.php?ID=1182887&DL=2191\n",
      "https://www.sgcarmart.com/used_cars/info.php?ID=1182881&DL=2296\n",
      "https://www.sgcarmart.com/used_cars/info.php?ID=1182871&DL=1000\n",
      "https://www.sgcarmart.com/used_cars/info.php?ID=1124035&DL=2349\n",
      "https://www.sgcarmart.com/used_cars/info.php?ID=1178266&DL=4354\n",
      "https://www.sgcarmart.com/used_cars/info.php?ID=1182885&DL=3382\n",
      "https://www.sgcarmart.com/used_cars/info.php?ID=1182875&DL=1000\n",
      "https://www.sgcarmart.com/used_cars/info.php?ID=1182872&DL=1000\n",
      "https://www.sgcarmart.com/used_cars/info.php?ID=1182800&DL=1120\n",
      "https://www.sgcarmart.com/used_cars/info.php?ID=1178434&DL=4382\n",
      "https://www.sgcarmart.com/used_cars/info.php?ID=1151243&DL=3545\n",
      "https://www.sgcarmart.com/used_cars/info.php?ID=1182879&DL=3175\n",
      "https://www.sgcarmart.com/used_cars/info.php?ID=1182878&DL=1000\n",
      "https://www.sgcarmart.com/used_cars/info.php?ID=1057583&DL=2563\n",
      "https://www.sgcarmart.com/used_cars/info.php?ID=1182868&DL=3142\n",
      "https://www.sgcarmart.com/used_cars/info.php?ID=1162635&DL=2163\n",
      "https://www.sgcarmart.com/used_cars/info.php?ID=1158366&DL=4207\n",
      "https://www.sgcarmart.com/used_cars/info.php?ID=1181633&DL=3789\n",
      "https://www.sgcarmart.com/used_cars/info.php?ID=1178032&DL=2396\n",
      "https://www.sgcarmart.com/used_cars/info.php?ID=1173503&DL=4381\n",
      "https://www.sgcarmart.com/used_cars/info.php?ID=1182877&DL=3922\n",
      "https://www.sgcarmart.com/used_cars/info.php?ID=1178754&DL=3954\n",
      "https://www.sgcarmart.com/used_cars/info.php?ID=1178750&DL=4207\n",
      "https://www.sgcarmart.com/used_cars/info.php?ID=1147998&DL=4207\n",
      "https://www.sgcarmart.com/used_cars/info.php?ID=1182874&DL=4168\n",
      "https://www.sgcarmart.com/used_cars/info.php?ID=1182873&DL=2080\n",
      "https://www.sgcarmart.com/used_cars/info.php?ID=1182865&DL=2389\n",
      "https://www.sgcarmart.com/used_cars/info.php?ID=1182870&DL=2391\n",
      "https://www.sgcarmart.com/used_cars/info.php?ID=1182869&DL=2547\n",
      "https://www.sgcarmart.com/used_cars/info.php?ID=1182864&DL=2391\n",
      "https://www.sgcarmart.com/used_cars/info.php?ID=1182866&DL=3447\n",
      "https://www.sgcarmart.com/used_cars/info.php?ID=1182862&DL=3028\n",
      "https://www.sgcarmart.com/used_cars/info.php?ID=1182861&DL=4252\n",
      "https://www.sgcarmart.com/used_cars/info.php?ID=1182860&DL=1351\n",
      "https://www.sgcarmart.com/used_cars/info.php?ID=1182859&DL=3100\n",
      "https://www.sgcarmart.com/used_cars/info.php?ID=1182858&DL=2387\n",
      "https://www.sgcarmart.com/used_cars/info.php?ID=1182857&DL=3989\n",
      "https://www.sgcarmart.com/used_cars/info.php?ID=1182854&DL=3037\n",
      "https://www.sgcarmart.com/used_cars/info.php?ID=1176705&DL=1354\n",
      "https://www.sgcarmart.com/used_cars/info.php?ID=1171874&DL=2397\n",
      "https://www.sgcarmart.com/used_cars/info.php?ID=1163748&DL=1354\n",
      "https://www.sgcarmart.com/used_cars/info.php?ID=1143234&DL=2976\n",
      "https://www.sgcarmart.com/used_cars/info.php?ID=1136430&DL=3218\n",
      "https://www.sgcarmart.com/used_cars/info.php?ID=1182856&DL=1277\n",
      "https://www.sgcarmart.com/used_cars/info.php?ID=1182853&DL=1360\n",
      "https://www.sgcarmart.com/used_cars/info.php?ID=1182591&DL=2976\n",
      "https://www.sgcarmart.com/used_cars/info.php?ID=1175768&DL=4309\n",
      "https://www.sgcarmart.com/used_cars/info.php?ID=1173033&DL=2493\n",
      "https://www.sgcarmart.com/used_cars/info.php?ID=1154708&DL=3582\n",
      "https://www.sgcarmart.com/used_cars/info.php?ID=1127891&DL=2493\n",
      "https://www.sgcarmart.com/used_cars/info.php?ID=1182852&DL=1016\n",
      "https://www.sgcarmart.com/used_cars/info.php?ID=1182850&DL=2133\n",
      "https://www.sgcarmart.com/used_cars/info.php?ID=1182849&DL=2052\n",
      "https://www.sgcarmart.com/used_cars/info.php?ID=1182848&DL=1360\n",
      "https://www.sgcarmart.com/used_cars/info.php?ID=1180321&DL=3582\n",
      "https://www.sgcarmart.com/used_cars/info.php?ID=1179677&DL=3582\n",
      "https://www.sgcarmart.com/used_cars/info.php?ID=1177578&DL=3218\n",
      "https://www.sgcarmart.com/used_cars/info.php?ID=1177570&DL=3218\n",
      "https://www.sgcarmart.com/used_cars/info.php?ID=1177222&DL=2976\n",
      "https://www.sgcarmart.com/used_cars/info.php?ID=1175053&DL=3582\n",
      "https://www.sgcarmart.com/used_cars/info.php?ID=1174563&DL=1354\n",
      "https://www.sgcarmart.com/used_cars/info.php?ID=1173688&DL=1354\n",
      "https://www.sgcarmart.com/used_cars/info.php?ID=1148410&DL=3218\n",
      "https://www.sgcarmart.com/used_cars/info.php?ID=1144779&DL=2493\n",
      "https://www.sgcarmart.com/used_cars/info.php?ID=1140536&DL=2493\n",
      "https://www.sgcarmart.com/used_cars/info.php?ID=1182844&DL=2080\n",
      "https://www.sgcarmart.com/used_cars/info.php?ID=1182576&DL=2783\n",
      "https://www.sgcarmart.com/used_cars/info.php?ID=1180326&DL=4430\n",
      "https://www.sgcarmart.com/used_cars/info.php?ID=1180324&DL=4430\n",
      "https://www.sgcarmart.com/used_cars/info.php?ID=1178711&DL=4430\n",
      "https://www.sgcarmart.com/used_cars/info.php?ID=1109803&DL=2783\n",
      "https://www.sgcarmart.com/used_cars/info.php?ID=1182842&DL=3034\n",
      "https://www.sgcarmart.com/used_cars/info.php?ID=1182841&DL=3895\n",
      "https://www.sgcarmart.com/used_cars/info.php?ID=1182840&DL=3961\n",
      "https://www.sgcarmart.com/used_cars/info.php?ID=1182839&DL=1135\n",
      "https://www.sgcarmart.com/used_cars/info.php?ID=1182838&DL=4309\n",
      "https://www.sgcarmart.com/used_cars/info.php?ID=1182700&DL=2689\n",
      "https://www.sgcarmart.com/used_cars/info.php?ID=1182380&DL=2870\n",
      "https://www.sgcarmart.com/used_cars/info.php?ID=1181650&DL=2726\n",
      "https://www.sgcarmart.com/used_cars/info.php?ID=1178920&DL=4430\n",
      "https://www.sgcarmart.com/used_cars/info.php?ID=1176992&DL=2927\n",
      "https://www.sgcarmart.com/used_cars/info.php?ID=1176393&DL=2689\n",
      "https://www.sgcarmart.com/used_cars/info.php?ID=1171864&DL=3486\n",
      "https://www.sgcarmart.com/used_cars/info.php?ID=1166612&DL=2689\n",
      "https://www.sgcarmart.com/used_cars/info.php?ID=1147853&DL=2783\n",
      "https://www.sgcarmart.com/used_cars/info.php?ID=1145874&DL=3486\n",
      "https://www.sgcarmart.com/used_cars/info.php?ID=1144965&DL=2783\n",
      "https://www.sgcarmart.com/used_cars/info.php?ID=1092152&DL=2783\n",
      "https://www.sgcarmart.com/used_cars/info.php?ID=1182837&DL=3544\n",
      "https://www.sgcarmart.com/used_cars/info.php?ID=1182826&DL=1000\n",
      "https://www.sgcarmart.com/used_cars/info.php?ID=1182785&DL=4247\n",
      "https://www.sgcarmart.com/used_cars/info.php?ID=1182697&DL=3750\n",
      "https://www.sgcarmart.com/used_cars/info.php?ID=1181492&DL=2341\n",
      "https://www.sgcarmart.com/used_cars/info.php?ID=1172429&DL=2189\n",
      "https://www.sgcarmart.com/used_cars/info.php?ID=1168469&DL=3004\n",
      "https://www.sgcarmart.com/used_cars/info.php?ID=1152907&DL=2783\n",
      "https://www.sgcarmart.com/used_cars/info.php?ID=1182831&DL=2192\n",
      "https://www.sgcarmart.com/used_cars/info.php?ID=1182808&DL=1152\n",
      "https://www.sgcarmart.com/used_cars/info.php?ID=1180522&DL=2689\n",
      "https://www.sgcarmart.com/used_cars/info.php?ID=1179571&DL=3004\n",
      "https://www.sgcarmart.com/used_cars/info.php?ID=1179113&DL=3616\n",
      "https://www.sgcarmart.com/used_cars/info.php?ID=1174151&DL=3004\n",
      "https://www.sgcarmart.com/used_cars/info.php?ID=1172054&DL=2189\n",
      "https://www.sgcarmart.com/used_cars/info.php?ID=1167668&DL=3777\n",
      "https://www.sgcarmart.com/used_cars/info.php?ID=1156940&DL=2783\n",
      "https://www.sgcarmart.com/used_cars/info.php?ID=1149297&DL=2927\n",
      "https://www.sgcarmart.com/used_cars/info.php?ID=1102939&DL=2783\n",
      "https://www.sgcarmart.com/used_cars/info.php?ID=1182836&DL=1000\n",
      "https://www.sgcarmart.com/used_cars/info.php?ID=1182817&DL=1123\n",
      "https://www.sgcarmart.com/used_cars/info.php?ID=1179556&DL=3004\n",
      "https://www.sgcarmart.com/used_cars/info.php?ID=1182814&DL=1272\n",
      "https://www.sgcarmart.com/used_cars/info.php?ID=1182796&DL=4229\n",
      "https://www.sgcarmart.com/used_cars/info.php?ID=1182824&DL=3749\n",
      "https://www.sgcarmart.com/used_cars/info.php?ID=1182835&DL=3794\n",
      "https://www.sgcarmart.com/used_cars/info.php?ID=1182823&DL=2563\n",
      "https://www.sgcarmart.com/used_cars/info.php?ID=1182834&DL=3034\n",
      "https://www.sgcarmart.com/used_cars/info.php?ID=1182827&DL=1111\n",
      "https://www.sgcarmart.com/used_cars/info.php?ID=1182741&DL=1054\n",
      "https://www.sgcarmart.com/used_cars/info.php?ID=1182832&DL=1061\n",
      "https://www.sgcarmart.com/used_cars/info.php?ID=1182828&DL=2440\n",
      "https://www.sgcarmart.com/used_cars/info.php?ID=1182821&DL=3283\n",
      "https://www.sgcarmart.com/used_cars/info.php?ID=1182793&DL=1351\n",
      "https://www.sgcarmart.com/used_cars/info.php?ID=1182789&DL=3602\n",
      "https://www.sgcarmart.com/used_cars/info.php?ID=1182783&DL=1360\n",
      "https://www.sgcarmart.com/used_cars/info.php?ID=1180790&DL=3845\n",
      "https://www.sgcarmart.com/used_cars/info.php?ID=1178237&DL=1000\n"
     ]
    },
    {
     "name": "stdout",
     "output_type": "stream",
     "text": [
      "https://www.sgcarmart.com/used_cars/info.php?ID=1149999&DL=3175\n",
      "https://www.sgcarmart.com/used_cars/info.php?ID=1182776&DL=1000\n",
      "https://www.sgcarmart.com/used_cars/info.php?ID=1182754&DL=2356\n",
      "https://www.sgcarmart.com/used_cars/info.php?ID=1182753&DL=1000\n",
      "https://www.sgcarmart.com/used_cars/info.php?ID=1179629&DL=3271\n",
      "https://www.sgcarmart.com/used_cars/info.php?ID=1177372&DL=3271\n",
      "https://www.sgcarmart.com/used_cars/info.php?ID=1182822&DL=4074\n",
      "https://www.sgcarmart.com/used_cars/info.php?ID=1182819&DL=4123\n",
      "https://www.sgcarmart.com/used_cars/info.php?ID=1182813&DL=2725\n",
      "https://www.sgcarmart.com/used_cars/info.php?ID=1182798&DL=3649\n",
      "https://www.sgcarmart.com/used_cars/info.php?ID=1178311&DL=3271\n",
      "https://www.sgcarmart.com/used_cars/info.php?ID=1176017&DL=3271\n",
      "https://www.sgcarmart.com/used_cars/info.php?ID=1182833&DL=3541\n",
      "https://www.sgcarmart.com/used_cars/info.php?ID=1182829&DL=3137\n",
      "https://www.sgcarmart.com/used_cars/info.php?ID=1182820&DL=3900\n",
      "https://www.sgcarmart.com/used_cars/info.php?ID=1182777&DL=3946\n",
      "https://www.sgcarmart.com/used_cars/info.php?ID=1182751&DL=2025\n",
      "https://www.sgcarmart.com/used_cars/info.php?ID=1182639&DL=3137\n",
      "https://www.sgcarmart.com/used_cars/info.php?ID=1182596&DL=2757\n",
      "https://www.sgcarmart.com/used_cars/info.php?ID=1182493&DL=3750\n",
      "https://www.sgcarmart.com/used_cars/info.php?ID=1181878&DL=1000\n",
      "https://www.sgcarmart.com/used_cars/info.php?ID=1181009&DL=3137\n",
      "https://www.sgcarmart.com/used_cars/info.php?ID=1149254&DL=1189\n",
      "https://www.sgcarmart.com/used_cars/info.php?ID=1146678&DL=1189\n",
      "https://www.sgcarmart.com/used_cars/info.php?ID=1182816&DL=2875\n",
      "https://www.sgcarmart.com/used_cars/info.php?ID=1182766&DL=3476\n",
      "https://www.sgcarmart.com/used_cars/info.php?ID=1182615&DL=3750\n",
      "https://www.sgcarmart.com/used_cars/info.php?ID=1168187&DL=1189\n",
      "https://www.sgcarmart.com/used_cars/info.php?ID=1160689&DL=1189\n",
      "https://www.sgcarmart.com/used_cars/info.php?ID=1155287&DL=1189\n",
      "https://www.sgcarmart.com/used_cars/info.php?ID=1149419&DL=4123\n",
      "https://www.sgcarmart.com/used_cars/info.php?ID=1146033&DL=1189\n",
      "https://www.sgcarmart.com/used_cars/info.php?ID=1182782&DL=1000\n",
      "https://www.sgcarmart.com/used_cars/info.php?ID=1182750&DL=1194\n",
      "https://www.sgcarmart.com/used_cars/info.php?ID=1179076&DL=2245\n",
      "https://www.sgcarmart.com/used_cars/info.php?ID=1178158&DL=1189\n",
      "https://www.sgcarmart.com/used_cars/info.php?ID=1174615&DL=2121\n",
      "https://www.sgcarmart.com/used_cars/info.php?ID=1162925&DL=3393\n",
      "https://www.sgcarmart.com/used_cars/info.php?ID=1143816&DL=1189\n",
      "https://www.sgcarmart.com/used_cars/info.php?ID=1134478&DL=1189\n",
      "https://www.sgcarmart.com/used_cars/info.php?ID=1182818&DL=2408\n",
      "https://www.sgcarmart.com/used_cars/info.php?ID=1182811&DL=2408\n",
      "https://www.sgcarmart.com/used_cars/info.php?ID=1182810&DL=3764\n",
      "https://www.sgcarmart.com/used_cars/info.php?ID=1182792&DL=2425\n",
      "https://www.sgcarmart.com/used_cars/info.php?ID=1182784&DL=3137\n",
      "https://www.sgcarmart.com/used_cars/info.php?ID=1182760&DL=1016\n",
      "https://www.sgcarmart.com/used_cars/info.php?ID=1182583&DL=1264\n",
      "https://www.sgcarmart.com/used_cars/info.php?ID=1174825&DL=2351\n",
      "https://www.sgcarmart.com/used_cars/info.php?ID=1164660&DL=3801\n",
      "https://www.sgcarmart.com/used_cars/info.php?ID=1164339&DL=2351\n",
      "https://www.sgcarmart.com/used_cars/info.php?ID=1151873&DL=3518\n",
      "https://www.sgcarmart.com/used_cars/info.php?ID=1151470&DL=2984\n",
      "https://www.sgcarmart.com/used_cars/info.php?ID=1146551&DL=3995\n",
      "https://www.sgcarmart.com/used_cars/info.php?ID=1133746&DL=2984\n",
      "https://www.sgcarmart.com/used_cars/info.php?ID=1182815&DL=3466\n",
      "https://www.sgcarmart.com/used_cars/info.php?ID=1182812&DL=2793\n",
      "https://www.sgcarmart.com/used_cars/info.php?ID=1182797&DL=2397\n",
      "https://www.sgcarmart.com/used_cars/info.php?ID=1182787&DL=3451\n",
      "https://www.sgcarmart.com/used_cars/info.php?ID=1182773&DL=1032\n",
      "https://www.sgcarmart.com/used_cars/info.php?ID=1182771&DL=3845\n",
      "https://www.sgcarmart.com/used_cars/info.php?ID=1182749&DL=3466\n",
      "https://www.sgcarmart.com/used_cars/info.php?ID=1181651&DL=3100\n",
      "https://www.sgcarmart.com/used_cars/info.php?ID=1174618&DL=2121\n",
      "https://www.sgcarmart.com/used_cars/info.php?ID=1174613&DL=2121\n",
      "https://www.sgcarmart.com/used_cars/info.php?ID=1163537&DL=3995\n",
      "https://www.sgcarmart.com/used_cars/info.php?ID=1151584&DL=2563\n",
      "https://www.sgcarmart.com/used_cars/info.php?ID=1129839&DL=2984\n",
      "https://www.sgcarmart.com/used_cars/info.php?ID=1182809&DL=1256\n",
      "https://www.sgcarmart.com/used_cars/info.php?ID=1182805&DL=3034\n",
      "https://www.sgcarmart.com/used_cars/info.php?ID=1182801&DL=3742\n",
      "https://www.sgcarmart.com/used_cars/info.php?ID=1182791&DL=2138\n",
      "https://www.sgcarmart.com/used_cars/info.php?ID=1182780&DL=4229\n",
      "https://www.sgcarmart.com/used_cars/info.php?ID=1182748&DL=1194\n",
      "https://www.sgcarmart.com/used_cars/info.php?ID=1182743&DL=3392\n",
      "https://www.sgcarmart.com/used_cars/info.php?ID=1182699&DL=1000\n",
      "https://www.sgcarmart.com/used_cars/info.php?ID=1181102&DL=1000\n",
      "https://www.sgcarmart.com/used_cars/info.php?ID=1179428&DL=1000\n",
      "https://www.sgcarmart.com/used_cars/info.php?ID=1179028&DL=2351\n",
      "https://www.sgcarmart.com/used_cars/info.php?ID=1174022&DL=3801\n",
      "https://www.sgcarmart.com/used_cars/info.php?ID=1166199&DL=2927\n",
      "https://www.sgcarmart.com/used_cars/info.php?ID=1165151&DL=1000\n",
      "https://www.sgcarmart.com/used_cars/info.php?ID=1164745&DL=2927\n",
      "https://www.sgcarmart.com/used_cars/info.php?ID=1157029&DL=2927\n",
      "https://www.sgcarmart.com/used_cars/info.php?ID=1152793&DL=2927\n",
      "https://www.sgcarmart.com/used_cars/info.php?ID=1150469&DL=2927\n",
      "https://www.sgcarmart.com/used_cars/info.php?ID=1150398&DL=2984\n",
      "https://www.sgcarmart.com/used_cars/info.php?ID=1132468&DL=2351\n",
      "https://www.sgcarmart.com/used_cars/info.php?ID=1123111&DL=3318\n",
      "https://www.sgcarmart.com/used_cars/info.php?ID=1116070&DL=2927\n",
      "https://www.sgcarmart.com/used_cars/info.php?ID=1182807&DL=1228\n",
      "https://www.sgcarmart.com/used_cars/info.php?ID=1182795&DL=1135\n",
      "https://www.sgcarmart.com/used_cars/info.php?ID=1182778&DL=3287\n",
      "https://www.sgcarmart.com/used_cars/info.php?ID=1182775&DL=2428\n",
      "https://www.sgcarmart.com/used_cars/info.php?ID=1182688&DL=1000\n",
      "https://www.sgcarmart.com/used_cars/info.php?ID=1180523&DL=2927\n",
      "https://www.sgcarmart.com/used_cars/info.php?ID=1157979&DL=2356\n",
      "https://www.sgcarmart.com/used_cars/info.php?ID=1139610&DL=1272\n",
      "https://www.sgcarmart.com/used_cars/info.php?ID=1133155&DL=2741\n",
      "https://www.sgcarmart.com/used_cars/info.php?ID=1123633&DL=2356\n",
      "https://www.sgcarmart.com/used_cars/info.php?ID=1119656&DL=2927\n",
      "https://www.sgcarmart.com/used_cars/info.php?ID=1077062&DL=2927\n",
      "https://www.sgcarmart.com/used_cars/info.php?ID=1182804&DL=3649\n",
      "https://www.sgcarmart.com/used_cars/info.php?ID=1182803&DL=1269\n",
      "https://www.sgcarmart.com/used_cars/info.php?ID=1182802&DL=1245\n",
      "https://www.sgcarmart.com/used_cars/info.php?ID=1182794&DL=1277\n",
      "https://www.sgcarmart.com/used_cars/info.php?ID=1182790&DL=2473\n",
      "https://www.sgcarmart.com/used_cars/info.php?ID=1182786&DL=3863\n",
      "https://www.sgcarmart.com/used_cars/info.php?ID=1182781&DL=1240\n",
      "https://www.sgcarmart.com/used_cars/info.php?ID=1182779&DL=1340\n",
      "https://www.sgcarmart.com/used_cars/info.php?ID=1182774&DL=2764\n",
      "https://www.sgcarmart.com/used_cars/info.php?ID=1182772&DL=1240\n",
      "https://www.sgcarmart.com/used_cars/info.php?ID=1182770&DL=2282\n",
      "https://www.sgcarmart.com/used_cars/info.php?ID=1182769&DL=1238\n",
      "https://www.sgcarmart.com/used_cars/info.php?ID=1182767&DL=2189\n",
      "https://www.sgcarmart.com/used_cars/info.php?ID=1182765&DL=2975\n",
      "https://www.sgcarmart.com/used_cars/info.php?ID=1182763&DL=2943\n",
      "https://www.sgcarmart.com/used_cars/info.php?ID=1182762&DL=4166\n",
      "https://www.sgcarmart.com/used_cars/info.php?ID=1182759&DL=1032\n",
      "https://www.sgcarmart.com/used_cars/info.php?ID=1182758&DL=2283\n",
      "https://www.sgcarmart.com/used_cars/info.php?ID=1182757&DL=1164\n",
      "https://www.sgcarmart.com/used_cars/info.php?ID=1182756&DL=3466\n",
      "https://www.sgcarmart.com/used_cars/info.php?ID=1182755&DL=2291\n",
      "https://www.sgcarmart.com/used_cars/info.php?ID=1182752&DL=3471\n",
      "https://www.sgcarmart.com/used_cars/info.php?ID=1182747&DL=3133\n",
      "https://www.sgcarmart.com/used_cars/info.php?ID=1182746&DL=2650\n",
      "https://www.sgcarmart.com/used_cars/info.php?ID=1182745&DL=1028\n",
      "https://www.sgcarmart.com/used_cars/info.php?ID=1182744&DL=3602\n",
      "https://www.sgcarmart.com/used_cars/info.php?ID=1182742&DL=3777\n",
      "https://www.sgcarmart.com/used_cars/info.php?ID=1182740&DL=1024\n"
     ]
    },
    {
     "name": "stdout",
     "output_type": "stream",
     "text": [
      "https://www.sgcarmart.com/used_cars/info.php?ID=1182738&DL=2389\n",
      "https://www.sgcarmart.com/used_cars/info.php?ID=1182737&DL=2854\n",
      "https://www.sgcarmart.com/used_cars/info.php?ID=1182734&DL=3156\n",
      "https://www.sgcarmart.com/used_cars/info.php?ID=1182733&DL=2189\n",
      "https://www.sgcarmart.com/used_cars/info.php?ID=1182732&DL=3570\n",
      "https://www.sgcarmart.com/used_cars/info.php?ID=1182731&DL=1028\n",
      "https://www.sgcarmart.com/used_cars/info.php?ID=1182730&DL=2650\n",
      "https://www.sgcarmart.com/used_cars/info.php?ID=1182729&DL=3587\n",
      "https://www.sgcarmart.com/used_cars/info.php?ID=1182728&DL=2052\n",
      "https://www.sgcarmart.com/used_cars/info.php?ID=1182727&DL=1106\n",
      "https://www.sgcarmart.com/used_cars/info.php?ID=1182725&DL=2976\n",
      "https://www.sgcarmart.com/used_cars/info.php?ID=1182723&DL=2077\n",
      "https://www.sgcarmart.com/used_cars/info.php?ID=1182722&DL=3587\n",
      "https://www.sgcarmart.com/used_cars/info.php?ID=1182720&DL=1354\n",
      "https://www.sgcarmart.com/used_cars/info.php?ID=1182719&DL=1360\n",
      "https://www.sgcarmart.com/used_cars/info.php?ID=1182716&DL=1213\n",
      "https://www.sgcarmart.com/used_cars/info.php?ID=1182714&DL=2049\n",
      "https://www.sgcarmart.com/used_cars/info.php?ID=1182712&DL=1311\n",
      "https://www.sgcarmart.com/used_cars/info.php?ID=1182711&DL=3155\n",
      "https://www.sgcarmart.com/used_cars/info.php?ID=1182708&DL=3155\n",
      "https://www.sgcarmart.com/used_cars/info.php?ID=1182706&DL=3768\n",
      "https://www.sgcarmart.com/used_cars/info.php?ID=1182705&DL=3175\n",
      "https://www.sgcarmart.com/used_cars/info.php?ID=1182704&DL=1213\n",
      "https://www.sgcarmart.com/used_cars/info.php?ID=1182703&DL=3518\n",
      "https://www.sgcarmart.com/used_cars/info.php?ID=1182659&DL=3534\n",
      "https://www.sgcarmart.com/used_cars/info.php?ID=1182532&DL=2795\n",
      "https://www.sgcarmart.com/used_cars/info.php?ID=1182454&DL=3887\n",
      "https://www.sgcarmart.com/used_cars/info.php?ID=1182394&DL=4174\n",
      "https://www.sgcarmart.com/used_cars/info.php?ID=1182351&DL=4391\n",
      "https://www.sgcarmart.com/used_cars/info.php?ID=1181563&DL=3091\n",
      "https://www.sgcarmart.com/used_cars/info.php?ID=1181538&DL=3392\n",
      "https://www.sgcarmart.com/used_cars/info.php?ID=1180991&DL=2175\n",
      "https://www.sgcarmart.com/used_cars/info.php?ID=1180193&DL=2138\n",
      "https://www.sgcarmart.com/used_cars/info.php?ID=1179668&DL=4200\n",
      "https://www.sgcarmart.com/used_cars/info.php?ID=1179461&DL=3210\n",
      "https://www.sgcarmart.com/used_cars/info.php?ID=1179199&DL=4396\n",
      "https://www.sgcarmart.com/used_cars/info.php?ID=1178528&DL=2969\n",
      "https://www.sgcarmart.com/used_cars/info.php?ID=1177743&DL=1032\n",
      "https://www.sgcarmart.com/used_cars/info.php?ID=1177548&DL=2358\n",
      "https://www.sgcarmart.com/used_cars/info.php?ID=1177428&DL=4299\n",
      "https://www.sgcarmart.com/used_cars/info.php?ID=1176817&DL=2296\n",
      "https://www.sgcarmart.com/used_cars/info.php?ID=1176324&DL=2138\n"
     ]
    }
   ],
   "source": [
    "for key, value in car_id_dl_map.items():\n",
    "    try:\n",
    "      url_list = [f\"https://www.sgcarmart.com/used_cars/info.php?ID={key}&DL={value}\"]\n",
    "      data = map(feature_scraping, url_list)\n",
    "      print(list(data))\n",
    "    except:\n",
    "        pass"
   ]
  },
  {
   "cell_type": "code",
   "execution_count": null,
   "id": "ced090c7",
   "metadata": {
    "colab": {
     "base_uri": "https://localhost:8080/"
    },
    "executionInfo": {
     "elapsed": 3913,
     "status": "ok",
     "timestamp": 1679497177550,
     "user": {
      "displayName": "Lim KimHui",
      "userId": "08891717214305272956"
     },
     "user_tz": -480
    },
    "id": "ced090c7",
    "outputId": "2d7ad287-ed4a-4b29-e4ec-ab052eb3a039"
   },
   "outputs": [
    {
     "name": "stdout",
     "output_type": "stream",
     "text": [
      "https://www.sgcarmart.com/used_cars/info.php?ID=1174653\n",
      "[{'price': '$51,800', 'depreciation': '$19,680', 'registration_date': '30-Jan-2015', 'mileage': '120,000 km (14.7k /yr)', 'road_tax': '$742 /yr', 'deregistration_value': '$31,010', 'coe': '$76,889', 'engine_cap': '1,598 cc', 'curb_weight': '1,410 kg', 'manufactured_year': '2014', 'trasmission': 'Auto', 'omv': '$34,553', 'arf': '$30,375', 'power': '125.0 kW (167 bhp)', 'number_of_owner': '2', 'type': 'Luxury Sedan', 'car_features': 'Features BMW 1.6L inline 4 cylinder twin power turbocharged engine producing 167bhp, 270nm of torque. 8 speed (A) Steptronic transmission. View specs of the BM View specs of the BMW 320i', 'car_accessories': 'Accessories BMW iDrive, navigation, retractable mirror, LED DRL, comfort access with keyless start, Bluetooth connectivity.', 'descriptions': 'Description Second owner only. Very good condition. All wear and tear done. Full servicing record. Highest trade in. Standard/high bank loan, balloon loan, in house loan. 100% loan available. 1 day loan approval. Viewing & test drive today at balestier office anytime.', 'warranty': 'This car comes with 6-mth Sgcarmart Warranty, the best protection for your car.Ask the dealer to activate the warranty to start the coverage.$0 Repair BillsComprehensive Vehicle Inspection', 'category': 'PARF Car, Premium Ad Car, Sgcarmart Warranty Cars', 'status': 'Available for sale. Shortlist this car to get alerted whenever the price or availability changes.'}]\n"
     ]
    }
   ],
   "source": [
    "# url_list = [\"https://www.sgcarmart.com/used_cars/info.php?ID=1174653\"]\n",
    "# data = map(feature_scraping, url_list)\n",
    "# print(list(data))"
   ]
  },
  {
   "cell_type": "code",
   "execution_count": null,
   "id": "521cec98",
   "metadata": {
    "id": "521cec98"
   },
   "outputs": [],
   "source": [
    "# from SGCar Mart - main_left table\n",
    "# Left side column\n",
    "# price, depreciation, reg date, mileage, road tax, dereg value, COE, engine cap, curb weight"
   ]
  },
  {
   "cell_type": "code",
   "execution_count": null,
   "id": "898ec5cf",
   "metadata": {
    "id": "898ec5cf",
    "outputId": "32256982-a83c-4108-f639-22396479b3e9"
   },
   "outputs": [
    {
     "name": "stdout",
     "output_type": "stream",
     "text": [
      "['$52,800']\n"
     ]
    }
   ],
   "source": [
    "# # price\n",
    "# pr = soup.body.find('div', {'id':'main_left'}).find('table', {'id':'carInfo'}).find('tr').find_all('strong')[1]\n",
    "# price.append(str(pr).partition('/')[0].partition('>')[-1].partition('<')[0].strip())\n",
    "# print(price)"
   ]
  },
  {
   "cell_type": "code",
   "execution_count": null,
   "id": "5fca26bf",
   "metadata": {
    "id": "5fca26bf",
    "outputId": "6456be55-e374-4a53-914f-231531b4de9d"
   },
   "outputs": [
    {
     "name": "stdout",
     "output_type": "stream",
     "text": [
      "['$19,500']\n"
     ]
    }
   ],
   "source": [
    "# # depreciation\n",
    "# dep = soup.body.find('div', {'id':'main_left'}).find('table', {'id':'carInfo'}).select('tr:nth-of-type(2)')[0].select('td:nth-of-type(2)')[0].find_all(string=re.compile(\"$\"))\n",
    "# depreciation.append(dep[0].replace(\" \", \"\").strip().partition('/')[0])\n",
    "# print(depreciation)"
   ]
  },
  {
   "cell_type": "code",
   "execution_count": null,
   "id": "3852e60c",
   "metadata": {
    "id": "3852e60c",
    "outputId": "41441fe3-ad67-48d3-c28d-29d9adf32fe6"
   },
   "outputs": [
    {
     "name": "stdout",
     "output_type": "stream",
     "text": [
      "['30-Jan-2015']\n"
     ]
    }
   ],
   "source": [
    "# # reg date\n",
    "# regDate = soup.body.find('div', {'id':'main_left'}).find('table', {'id':'carInfo'}).select('tr:nth-of-type(2)')[0].select('td:nth-of-type(4)')[0].find_all(string=True)\n",
    "# reg_date.append(regDate[0].strip())\n",
    "# print(reg_date)"
   ]
  },
  {
   "cell_type": "code",
   "execution_count": null,
   "id": "ee92a353",
   "metadata": {
    "id": "ee92a353",
    "outputId": "e8679e88-09c3-4dc0-c5de-29cd7bdb1b8b"
   },
   "outputs": [
    {
     "name": "stdout",
     "output_type": "stream",
     "text": [
      "['120,000 km (14.9k /yr)']\n"
     ]
    }
   ],
   "source": [
    "# # mileage\n",
    "# mi = soup.body.find('div', {'id':'main_left'}).find('table', {'id':'carInfo'}).select('tr:nth-of-type(3)')[0].select('div:nth-of-type(1)')[0].find('div', {'class':'row_info'}).string\n",
    "# mileage.append(mi.strip())\n",
    "# print(mileage)"
   ]
  },
  {
   "cell_type": "code",
   "execution_count": null,
   "id": "88126c34",
   "metadata": {
    "id": "88126c34",
    "outputId": "4b256316-c474-4274-fd75-4d9bb6dcf48d"
   },
   "outputs": [
    {
     "name": "stdout",
     "output_type": "stream",
     "text": [
      "['$742 /yr']\n"
     ]
    }
   ],
   "source": [
    "# # road tax\n",
    "# roadTax = soup.body.find('div', {'id':'main_left'}).find('table', {'id':'carInfo'}).select('tr:nth-of-type(3)')[0].find('td').select('div:nth-of-type(1)')[0].next_sibling.next_sibling.find('div', {'class':'row_info'}).string\n",
    "# road_tax.append(roadTax.strip())\n",
    "# print(road_tax)"
   ]
  },
  {
   "cell_type": "code",
   "execution_count": null,
   "id": "7f08f2f8",
   "metadata": {
    "id": "7f08f2f8",
    "outputId": "6ae77559-e21f-419d-ce37-8c326d25d619"
   },
   "outputs": [
    {
     "name": "stdout",
     "output_type": "stream",
     "text": [
      "['$31,536']\n"
     ]
    }
   ],
   "source": [
    "# # dereg value\n",
    "# dereg = soup.body.find('div', {'id':'main_left'}).find('table', {'id':'carInfo'}).select('tr:nth-of-type(3)')[0].find('td').select('div:nth-of-type(3)')[0].find('div', {'class':'row_info'}).find(string=re.compile(\"$\"))\n",
    "# dereg_value.append(dereg.partition(\"as\")[0].strip())\n",
    "# print(dereg_value)"
   ]
  },
  {
   "cell_type": "code",
   "execution_count": null,
   "id": "de956932",
   "metadata": {
    "id": "de956932",
    "outputId": "6f3af3bc-d494-45fd-8179-db0e665b42e4"
   },
   "outputs": [
    {
     "name": "stdout",
     "output_type": "stream",
     "text": [
      "['$76,889']\n"
     ]
    }
   ],
   "source": [
    "# # coe\n",
    "# c = soup.body.find('div', {'id':'main_left'}).find('table', {'id':'carInfo'}).select('tr:nth-of-type(3)')[0].find('td').select('div:nth-of-type(4)')[0].find('div', {'class':'row_info'}).string\n",
    "# coe.append(c.strip())\n",
    "# print(coe)"
   ]
  },
  {
   "cell_type": "code",
   "execution_count": null,
   "id": "b47ea8cb",
   "metadata": {
    "id": "b47ea8cb",
    "outputId": "037c8161-a5cd-4189-9361-cd10db77577c"
   },
   "outputs": [
    {
     "name": "stdout",
     "output_type": "stream",
     "text": [
      "['1,598 cc']\n"
     ]
    }
   ],
   "source": [
    "# # engine cap\n",
    "# eng = soup.body.find('div', {'id':'main_left'}).find('table', {'id':'carInfo'}).select('tr:nth-of-type(3)')[0].find('td').select('div:nth-of-type(5)')[0].find('div', {'class':'row_info'}).string\n",
    "# engine_cap.append(eng.strip())\n",
    "# print(engine_cap)"
   ]
  },
  {
   "cell_type": "code",
   "execution_count": null,
   "id": "e123ea7e",
   "metadata": {
    "id": "e123ea7e",
    "outputId": "38892b94-ddac-4416-f0d3-c00ec0cda1e0"
   },
   "outputs": [
    {
     "name": "stdout",
     "output_type": "stream",
     "text": [
      "['1,410 kg']\n"
     ]
    }
   ],
   "source": [
    "# # curb weight\n",
    "# curb = soup.body.find('div', {'id':'main_left'}).find('table', {'id':'carInfo'}).select('tr:nth-of-type(3)')[0].find('td').select('div:nth-of-type(6)')[0].find('div', {'class':'row_info'}).string\n",
    "# curb_weight.append(curb.strip())\n",
    "# print(curb_weight)"
   ]
  },
  {
   "cell_type": "code",
   "execution_count": null,
   "id": "70f12d8f",
   "metadata": {
    "id": "70f12d8f"
   },
   "outputs": [],
   "source": [
    "# for right side column\n",
    "# manufactured year, transmission, OMV, ARF, power, No. of owners"
   ]
  },
  {
   "cell_type": "code",
   "execution_count": null,
   "id": "64e36b6d",
   "metadata": {
    "id": "64e36b6d",
    "outputId": "70a453a4-379f-43f1-93e6-3bdf1fea7a4a"
   },
   "outputs": [
    {
     "name": "stdout",
     "output_type": "stream",
     "text": [
      "['2014']\n"
     ]
    }
   ],
   "source": [
    "# # manufactured year\n",
    "# manuYear = soup.body.find('div', {'id':'main_left'}).find('table', {'id':'carInfo'}).select('tr:nth-of-type(3)')[0].select('td:nth-of-type(2)')[0].select('div:nth-of-type(1)')[0].find('div', {'class':'row_info'}).string\n",
    "# manufactured_year.append(manuYear.strip())\n",
    "# print(manufactured_year)"
   ]
  },
  {
   "cell_type": "code",
   "execution_count": null,
   "id": "d6950a80",
   "metadata": {
    "id": "d6950a80",
    "outputId": "91e3b417-0983-4c9b-a237-53b1c8521ee3"
   },
   "outputs": [
    {
     "name": "stdout",
     "output_type": "stream",
     "text": [
      "['Auto']\n"
     ]
    }
   ],
   "source": [
    "# # transmission\n",
    "# trans = soup.body.find('div', {'id':'main_left'}).find('table', {'id':'carInfo'}).select('tr:nth-of-type(3)')[0].select('td:nth-of-type(2)')[0].find('div', {'class':'eachInfo'}).next_sibling.next_sibling.find('div', {'class':'row_info'}).string\n",
    "# transmission.append(trans.strip())\n",
    "# print(transmission)"
   ]
  },
  {
   "cell_type": "code",
   "execution_count": null,
   "id": "09f5423c",
   "metadata": {
    "id": "09f5423c",
    "outputId": "e06cdc5b-d548-478b-9fb3-6fad4091efb8"
   },
   "outputs": [
    {
     "name": "stdout",
     "output_type": "stream",
     "text": [
      "['$34,553']\n"
     ]
    }
   ],
   "source": [
    "# # OMV\n",
    "# oMV = soup.body.find('div', {'id':'main_left'}).find('table', {'id':'carInfo'}).select('tr:nth-of-type(3)')[0].select('td:nth-of-type(2)')[0].select('div:nth-of-type(3)')[0].find('div', {'class':'row_info'}).string\n",
    "# omv.append(oMV.strip())\n",
    "# print(omv)"
   ]
  },
  {
   "cell_type": "code",
   "execution_count": null,
   "id": "5a9857f1",
   "metadata": {
    "id": "5a9857f1",
    "outputId": "4f46aa8d-5f2e-4f15-db1e-bf0d62439f46"
   },
   "outputs": [
    {
     "name": "stdout",
     "output_type": "stream",
     "text": [
      "['$30,375']\n"
     ]
    }
   ],
   "source": [
    "# # ARF\n",
    "# aRF = soup.body.find('div', {'id':'main_left'}).find('table', {'id':'carInfo'}).select('tr:nth-of-type(3)')[0].select('td:nth-of-type(2)')[0].select('div:nth-of-type(4)')[0].find('div', {'class':'row_info'}).string\n",
    "# arf.append(aRF.strip())\n",
    "# print(arf)"
   ]
  },
  {
   "cell_type": "code",
   "execution_count": null,
   "id": "edb80655",
   "metadata": {
    "id": "edb80655",
    "outputId": "64211955-c759-48f4-d2f2-8df92c94043f"
   },
   "outputs": [
    {
     "name": "stdout",
     "output_type": "stream",
     "text": [
      "['125.0 kW (167 bhp)']\n"
     ]
    }
   ],
   "source": [
    "# # Power\n",
    "# pOW = soup.body.find('div', {'id':'main_left'}).find('table', {'id':'carInfo'}).select('tr:nth-of-type(3)')[0].select('td:nth-of-type(2)')[0].select('div:nth-of-type(5)')[0].find('div', {'class':'row_info'}).string\n",
    "# power.append(pOW.strip())\n",
    "# print(power)"
   ]
  },
  {
   "cell_type": "code",
   "execution_count": null,
   "id": "95810d2e",
   "metadata": {
    "id": "95810d2e",
    "outputId": "8dec21be-8d49-4473-85af-354e19f28263"
   },
   "outputs": [
    {
     "name": "stdout",
     "output_type": "stream",
     "text": [
      "['2']\n"
     ]
    }
   ],
   "source": [
    "# # number of owners\n",
    "# owner = soup.body.find('div', {'id':'main_left'}).find('table', {'id':'carInfo'}).select('tr:nth-of-type(3)')[0].select('td:nth-of-type(2)')[0].select('div:nth-of-type(6)')[0].find('div', {'class':'row_info'}).string\n",
    "# number_of_owner.append(owner.strip())\n",
    "# print(number_of_owner)"
   ]
  },
  {
   "cell_type": "code",
   "execution_count": null,
   "id": "1caa1760",
   "metadata": {
    "id": "1caa1760",
    "outputId": "7597e084-3f05-42eb-975f-15b6075beaa3"
   },
   "outputs": [
    {
     "name": "stdout",
     "output_type": "stream",
     "text": [
      "['Luxury Sedan']\n"
     ]
    }
   ],
   "source": [
    "# # type of vehicles\n",
    "# typeV = soup.body.find('div', {'id':'main_left'}).find('table', {'id':'carInfo'}).select('tr:nth-of-type(4)')[0].find('a').string\n",
    "# types.append(typeV.strip())\n",
    "# print(types)"
   ]
  },
  {
   "cell_type": "code",
   "execution_count": null,
   "id": "b80c5fca",
   "metadata": {
    "id": "b80c5fca",
    "outputId": "9ecc48e4-48a0-4bc8-87ed-b210d37562d3"
   },
   "outputs": [
    {
     "name": "stdout",
     "output_type": "stream",
     "text": [
      "['Features BMW 1.6L inline 4 cylinder twin power turbocharged engine producing 167bhp, 270nm of torque. 8 speed (A) Steptronic transmission. View specs of the BM View specs of the BMW 320i']\n"
     ]
    }
   ],
   "source": [
    "# # features\n",
    "# f = soup.body.find('div', {'id':'main_left'}).find('table', {'id':'carInfo'}).select('tr:nth-of-type(5)')[0].text\n",
    "# cleaned_f = ' '.join([t for t in (f.replace('\\r', '').replace('\\n','').strip().split(\" \")) if len(t) > 0])\n",
    "# features.append(cleaned_f)\n",
    "# print(features)"
   ]
  },
  {
   "cell_type": "code",
   "execution_count": null,
   "id": "b97e1f6f",
   "metadata": {
    "id": "b97e1f6f",
    "outputId": "91e046a7-288b-4a5c-93a8-08d08b2807fe"
   },
   "outputs": [
    {
     "name": "stdout",
     "output_type": "stream",
     "text": [
      "['Accessories BMW iDrive, navigation, retractable mirror, LED DRL, comfort access with keyless start, Bluetooth connectivity.']\n"
     ]
    }
   ],
   "source": [
    "# # accessories\n",
    "# a = soup.body.find('div', {'id':'main_left'}).find('table', {'id':'carInfo'}).select('tr:nth-of-type(6)')[0].text\n",
    "# cleaned_a = ' '.join([t for t in (a.replace('\\r', '').replace('\\n','').strip().split(\" \")) if len(t) > 0])\n",
    "# accessories.append(cleaned_a)\n",
    "# print(accessories)"
   ]
  },
  {
   "cell_type": "code",
   "execution_count": null,
   "id": "45f5ae02",
   "metadata": {
    "id": "45f5ae02",
    "outputId": "af3e7a2e-9477-4a7a-d04c-22aa3804804c"
   },
   "outputs": [
    {
     "name": "stdout",
     "output_type": "stream",
     "text": [
      "['Description Second owner only. Very good condition. All wear and tear done. Full servicing record. Highest trade in. Standard/high bank loan, balloon loan, in house loan. 100% loan available. 1 day loan approval. Viewing & test drive today at balestier office anytime.']\n"
     ]
    }
   ],
   "source": [
    "# # descriptions\n",
    "# d = soup.body.find('div', {'id':'main_left'}).find('table', {'id':'carInfo'}).select('tr:nth-of-type(7)')[0].text\n",
    "# cleaned_d = ' '.join([t for t in (d.replace('\\r', '').replace('\\n','').strip().split(\" \")) if len(t) > 0])\n",
    "# descriptions.append(cleaned_d)\n",
    "# print(descriptions)"
   ]
  },
  {
   "cell_type": "code",
   "execution_count": null,
   "id": "a757245e",
   "metadata": {
    "id": "a757245e",
    "outputId": "18cd01b7-e575-4249-fef6-475cd32fc588"
   },
   "outputs": [
    {
     "name": "stdout",
     "output_type": "stream",
     "text": [
      "['This car comes with 6-mth Sgcarmart Warranty, the best protection for your car. Ask the dealer to activate the warranty to start the coverage.$0 Repair BillsComprehensive Vehicle Inspection']\n"
     ]
    }
   ],
   "source": [
    "# # warranty\n",
    "# w = soup.body.find('div', {'id':'main_left'}).find('table', {'id':'carInfo'}).select('tr:nth-of-type(8)')[0].text\n",
    "# cleaned_w = ' '.join([t for t in (w.replace('\\r', '').replace('\\n','').strip().split(\" \")) if len(t) > 0])\n",
    "# warranty.append(cleaned_w)\n",
    "# print(warranty)"
   ]
  },
  {
   "cell_type": "code",
   "execution_count": null,
   "id": "54efb9a7",
   "metadata": {
    "id": "54efb9a7",
    "outputId": "f6ecdf54-cc9e-4325-f03c-e9fbef9128d5"
   },
   "outputs": [
    {
     "name": "stdout",
     "output_type": "stream",
     "text": [
      "['PARF Car, Premium Ad Car, Sgcarmart Warranty Cars']\n"
     ]
    }
   ],
   "source": [
    "# # category\n",
    "# cat = soup.body.find('div', {'id':'main_left'}).find('table', {'id':'carInfo'}).select('tr:nth-of-type(9)')[0].find('td').text\n",
    "# cleaned_cat = ' '.join([t for t in (cat.replace('\\r', '').replace('\\n','').replace('Category', '').strip().split(\" \")) if len(t) > 0])\n",
    "# category.append(cleaned_cat)\n",
    "# print(category)"
   ]
  },
  {
   "cell_type": "code",
   "execution_count": null,
   "id": "9e7520bb",
   "metadata": {
    "id": "9e7520bb",
    "outputId": "f55f6a12-4c73-45ab-b37b-f0a961737c7d"
   },
   "outputs": [
    {
     "name": "stdout",
     "output_type": "stream",
     "text": [
      "['Available for sale. Shortlist this car to get alerted whenever the price or availability changes.']\n"
     ]
    }
   ],
   "source": [
    "# # status\n",
    "# stat = soup.body.find('div', {'id':'main_left'}).find('table', {'id':'carInfo'}).select('tr:nth-of-type(10)')[0].find('td').text\n",
    "# cleaned_stat = ' '.join([t for t in (stat.replace('\\r', '').replace('\\n','').replace('Status', '').strip().split(\" \")) if len(t) > 0])\n",
    "# status.append(cleaned_stat)\n",
    "# print(status)"
   ]
  }
 ],
 "metadata": {
  "colab": {
   "provenance": [
    {
     "file_id": "1eAjjESokyfWsHvbQkkvg4b99pHVTYop6",
     "timestamp": 1679506585467
    }
   ]
  },
  "kernelspec": {
   "display_name": "Python 3 (ipykernel)",
   "language": "python",
   "name": "python3"
  },
  "language_info": {
   "codemirror_mode": {
    "name": "ipython",
    "version": 3
   },
   "file_extension": ".py",
   "mimetype": "text/x-python",
   "name": "python",
   "nbconvert_exporter": "python",
   "pygments_lexer": "ipython3",
   "version": "3.9.13"
  }
 },
 "nbformat": 4,
 "nbformat_minor": 5
}
