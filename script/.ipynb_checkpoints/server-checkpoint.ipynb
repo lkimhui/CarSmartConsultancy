{
 "cells": [
  {
   "cell_type": "code",
   "execution_count": 1,
   "id": "b7933835",
   "metadata": {},
   "outputs": [],
   "source": [
    "# import packages\n",
    "from flask import Flask, request, jsonify\n",
    "import pandas as pd\n",
    "import numpy as np\n",
    "import joblib"
   ]
  },
  {
   "cell_type": "markdown",
   "id": "52ad3e50",
   "metadata": {},
   "source": [
    "# Code below extract features from RNA-seq via NacSeq"
   ]
  },
  {
   "cell_type": "code",
   "execution_count": 2,
   "id": "83ca02fa",
   "metadata": {},
   "outputs": [],
   "source": [
    "from itertools import product\n",
    "\n",
    "# define a function to read the RNA sequence based on specified window\n",
    "def read_seq_by_chunksize(sample, window):\n",
    "    return [sample[i:i+window] for i in range (0, len(sample)) if len(sample[i:i+window]) == window]\n",
    "\n",
    "def vectorized_inputData(sample, combinations):\n",
    "    return [sample.count(c) for c in combinations]\n",
    "\n",
    "# extract the features\n",
    "def extractFeature_via_nacSeq(inputData):\n",
    "    \n",
    "    print(inputData)\n",
    "    \n",
    "    # for RNA sequence only\n",
    "    nucleotide = ['C', 'G', 'A', 'T']\n",
    "    \n",
    "    # perform cartesian-product based on k-value\n",
    "    p_combinations_nac = sorted([''.join(str(s) for s in t) for t in product(nucleotide, repeat=1)])\n",
    "    p_combinations_dac = sorted([''.join(str(s) for s in t) for t in product(nucleotide, repeat=2)])\n",
    "    p_combinations_tac = sorted([''.join(str(s) for s in t) for t in product(nucleotide, repeat=3)])\n",
    "    \n",
    "    # encode the long-string input based on specified window\n",
    "    encode_inputData_nac = list(map(read_seq_by_chunksize, inputData, [1]*inputData.shape[0]))\n",
    "    encode_inputData_dac = list(map(read_seq_by_chunksize, inputData, [2]*inputData.shape[0]))\n",
    "    encode_inputData_tac = list(map(read_seq_by_chunksize, inputData, [3]*inputData.shape[0]))\n",
    "    \n",
    "    # vectorized the output based on each combination found\n",
    "    vectors_nac = list(map(vectorized_inputData, encode_inputData_nac, [p_combinations_nac]*len(encode_inputData_nac)))\n",
    "    vectors_dac = list(map(vectorized_inputData, encode_inputData_dac, [p_combinations_dac]*len(encode_inputData_dac)))\n",
    "    vectors_tac = list(map(vectorized_inputData, encode_inputData_tac, [p_combinations_tac]*len(encode_inputData_tac)))\n",
    "    \n",
    "    # convert to respective dataframe\n",
    "    df_nac = pd.DataFrame(vectors_nac, columns=p_combinations_nac)\n",
    "    df_dac = pd.DataFrame(vectors_dac, columns=p_combinations_dac)\n",
    "    df_tac = pd.DataFrame(vectors_tac, columns=p_combinations_tac)\n",
    "    \n",
    "    # combine into single dataframe as input to predictive model\n",
    "    data = pd.concat([df_nac, df_dac, df_tac], axis=1)\n",
    "    \n",
    "    return data"
   ]
  },
  {
   "cell_type": "markdown",
   "id": "f1f68809",
   "metadata": {},
   "source": [
    "# Code below build a Flask Application for Model Api"
   ]
  },
  {
   "cell_type": "code",
   "execution_count": 3,
   "id": "d84c9dcc",
   "metadata": {},
   "outputs": [
    {
     "name": "stdout",
     "output_type": "stream",
     "text": [
      " * Serving Flask app \"__main__\" (lazy loading)\n",
      " * Environment: production\n",
      "\u001b[31m   WARNING: This is a development server. Do not use it in a production deployment.\u001b[0m\n",
      "\u001b[2m   Use a production WSGI server instead.\u001b[0m\n",
      " * Debug mode: on\n"
     ]
    },
    {
     "name": "stderr",
     "output_type": "stream",
     "text": [
      " * Running on http://127.0.0.1:9090/ (Press CTRL+C to quit)\n",
      " * Restarting with watchdog (fsevents)\n",
      "Traceback (most recent call last):\n",
      "  File \"/usr/local/anaconda3/lib/python3.9/site-packages/ipykernel_launcher.py\", line 15, in <module>\n",
      "    from ipykernel import kernelapp as app\n",
      "  File \"/usr/local/anaconda3/lib/python3.9/site-packages/ipykernel/kernelapp.py\", line 18, in <module>\n",
      "    from IPython.core.application import (\n",
      "  File \"/usr/local/anaconda3/lib/python3.9/site-packages/IPython/__init__.py\", line 56, in <module>\n",
      "    from .terminal.embed import embed\n",
      "  File \"/usr/local/anaconda3/lib/python3.9/site-packages/IPython/terminal/embed.py\", line 16, in <module>\n",
      "    from IPython.terminal.interactiveshell import TerminalInteractiveShell\n",
      "  File \"/usr/local/anaconda3/lib/python3.9/site-packages/IPython/terminal/interactiveshell.py\", line 35, in <module>\n",
      "    from .debugger import TerminalPdb, Pdb\n",
      "  File \"/usr/local/anaconda3/lib/python3.9/site-packages/IPython/terminal/debugger.py\", line 6, in <module>\n",
      "    from IPython.core.completer import IPCompleter\n",
      "  File \"/usr/local/anaconda3/lib/python3.9/site-packages/IPython/core/completer.py\", line 146, in <module>\n",
      "    import jedi\n",
      "  File \"/usr/local/anaconda3/lib/python3.9/site-packages/jedi/__init__.py\", line 32, in <module>\n",
      "    from jedi.api import Script, Interpreter, set_debug_function, preload_module\n",
      "  File \"/usr/local/anaconda3/lib/python3.9/site-packages/jedi/api/__init__.py\", line 13, in <module>\n",
      "    import parso\n",
      "  File \"/usr/local/anaconda3/lib/python3.9/site-packages/parso/__init__.py\", line 42, in <module>\n",
      "    from parso.grammar import Grammar, load_grammar\n",
      "  File \"/usr/local/anaconda3/lib/python3.9/site-packages/parso/grammar.py\", line 13, in <module>\n",
      "    from parso.cache import parser_cache, load_module, try_to_save_module\n",
      "  File \"/usr/local/anaconda3/lib/python3.9/site-packages/parso/cache.py\", line 76, in <module>\n",
      "    _default_cache_path = _get_default_cache_path()\n",
      "  File \"/usr/local/anaconda3/lib/python3.9/site-packages/parso/cache.py\", line 73, in _get_default_cache_path\n",
      "    return dir_.expanduser()\n",
      "AttributeError: 'PosixPath' object has no attribute 'expanduser'\n"
     ]
    },
    {
     "ename": "SystemExit",
     "evalue": "1",
     "output_type": "error",
     "traceback": [
      "An exception has occurred, use %tb to see the full traceback.\n",
      "\u001b[0;31mSystemExit\u001b[0m\u001b[0;31m:\u001b[0m 1\n"
     ]
    },
    {
     "name": "stderr",
     "output_type": "stream",
     "text": [
      "/usr/local/anaconda3/lib/python3.9/site-packages/IPython/core/interactiveshell.py:3465: UserWarning: To exit: use 'exit', 'quit', or Ctrl-D.\n",
      "  warn(\"To exit: use 'exit', 'quit', or Ctrl-D.\", stacklevel=1)\n"
     ]
    }
   ],
   "source": [
    "# build Flask Application\n",
    "app = Flask(__name__)\n",
    "\n",
    "# load the machine learning model\n",
    "# model = joblib.load(\"/Users/eesoonhang/Desktop/capstone_data/models/RFC_100trees/RFC_100trees_withRFE.pkl\")\n",
    "# rfe = joblib.load(\"/Users/eesoonhang/Desktop/capstone_data/models/RFC_100trees/RFE_33.pkl\")\n",
    "\n",
    "# define a predict function\n",
    "@app.route('/sgcarsmart/recommend', methods=['POST'])\n",
    "def recommend():\n",
    "    data = request.get_json(force=True)\n",
    "    return jsonify(data)\n",
    "\n",
    "if __name__ == '__main__':\n",
    "    app.run(port=5050, debug=True)"
   ]
  }
 ],
 "metadata": {
  "kernelspec": {
   "display_name": "Python 3 (ipykernel)",
   "language": "python",
   "name": "python3"
  },
  "language_info": {
   "codemirror_mode": {
    "name": "ipython",
    "version": 3
   },
   "file_extension": ".py",
   "mimetype": "text/x-python",
   "name": "python",
   "nbconvert_exporter": "python",
   "pygments_lexer": "ipython3",
   "version": "3.9.13"
  }
 },
 "nbformat": 4,
 "nbformat_minor": 5
}
